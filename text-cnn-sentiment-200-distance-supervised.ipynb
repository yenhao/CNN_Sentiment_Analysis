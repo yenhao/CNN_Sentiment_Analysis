{
 "cells": [
  {
   "cell_type": "code",
   "execution_count": 1,
   "metadata": {
    "collapsed": true
   },
   "outputs": [],
   "source": [
    "import numpy as np\n",
    "import os\n",
    "import tensorflow as tf\n",
    "from IPython.display import clear_output, Image, display, HTML\n",
    "from tensorflow.contrib.layers import variance_scaling_initializer\n",
    "from tensorflow.contrib.layers import fully_connected\n",
    "from tensorflow.contrib.data import Dataset, Iterator\n",
    "from sklearn.metrics import f1_score, classification_report\n",
    "import datetime\n",
    "\n",
    "###### Do not modify here ###### \n",
    "def strip_consts(graph_def, max_const_size=32):\n",
    "    \"\"\"Strip large constant values from graph_def.\"\"\"\n",
    "    strip_def = tf.GraphDef()\n",
    "    for n0 in graph_def.node:\n",
    "        n = strip_def.node.add() \n",
    "        n.MergeFrom(n0)\n",
    "        if n.op == 'Const':\n",
    "            tensor = n.attr['value'].tensor\n",
    "            size = len(tensor.tensor_content)\n",
    "            if size > max_const_size:\n",
    "                tensor.tensor_content = \"<stripped %d bytes>\"%size\n",
    "    return strip_def\n",
    "\n",
    "def show_graph(graph_def, max_const_size=32):\n",
    "    \"\"\"Visualize TensorFlow graph.\"\"\"\n",
    "    if hasattr(graph_def, 'as_graph_def'):\n",
    "        graph_def = graph_def.as_graph_def()\n",
    "    strip_def = graph_def\n",
    "    #strip_def = strip_consts(graph_def, max_const_size=max_const_size)\n",
    "    code = \"\"\"\n",
    "        <script>\n",
    "          function load() {{\n",
    "            document.getElementById(\"{id}\").pbtxt = {data};\n",
    "          }}\n",
    "        </script>\n",
    "        <link rel=\"import\" href=\"https://tensorboard.appspot.com/tf-graph-basic.build.html\" onload=load()>\n",
    "        <div style=\"height:600px\">\n",
    "          <tf-graph-basic id=\"{id}\"></tf-graph-basic>\n",
    "        </div>\n",
    "    \"\"\".format(data=repr(str(strip_def)), id='graph'+str(np.random.rand()))\n",
    "\n",
    "    iframe = \"\"\"\n",
    "        <iframe seamless style=\"width:1200px;height:620px;border:0\" srcdoc=\"{}\"></iframe>\n",
    "    \"\"\".format(code.replace('\"', '&quot;'))\n",
    "    display(HTML(iframe))\n",
    "###### Do not modify  here ######\n",
    "\n",
    "###### Do not modify here ###### \n",
    "\n",
    "# to make this notebook's output stable across runs\n",
    "def reset_graph(seed=42):\n",
    "    tf.reset_default_graph()\n",
    "    tf.set_random_seed(seed)\n",
    "    np.random.seed(seed)\n",
    "\n"
   ]
  },
  {
   "cell_type": "markdown",
   "metadata": {
    "collapsed": true
   },
   "source": [
    "## Data Preparing"
   ]
  },
  {
   "cell_type": "code",
   "execution_count": 2,
   "metadata": {
    "collapsed": true
   },
   "outputs": [],
   "source": [
    "from nltk.tokenize import TweetTokenizer\n",
    "import pandas as pd\n",
    "import re\n",
    "\n",
    "tknzr = TweetTokenizer()\n",
    "\n",
    "def filter_tweet(tweet, token = tknzr):\n",
    "    tweet = re.sub('https?:\\/\\/\\S+','URLTOK',tweet.lower().strip()) # url\n",
    "    tweet = re.sub('@(?:[a-zA-Z]+|[0-9 \\/]+)', 'USRTOK', tweet) # mention\n",
    "    tweet = re.sub('(\\:|\\=)(?:\\)|\\-|\\(|D| )+', '', tweet) # emoticon\n",
    "    return token.tokenize(tweet) # return tokenized\n",
    "\n"
   ]
  },
  {
   "cell_type": "markdown",
   "metadata": {},
   "source": [
    "### Load positive data"
   ]
  },
  {
   "cell_type": "markdown",
   "metadata": {},
   "source": [
    "#### Negative Tweets"
   ]
  },
  {
   "cell_type": "code",
   "execution_count": 3,
   "metadata": {},
   "outputs": [
    {
     "name": "stdout",
     "output_type": "stream",
     "text": [
      "461280\n"
     ]
    }
   ],
   "source": [
    "with open('data/distance_supervised/sad') as f:\n",
    "    sad_tweet = [filter_tweet(line) for line in f.readlines()]\n",
    "\n",
    "with open('data/distance_supervised/distance_supervised_tweets_corrected') as f:\n",
    "    sad_tweet += [filter_tweet(line.split('\\t')[3]) for line in f.readlines()]\n",
    "\n",
    "with open('data/distance_supervised/distance_supervised_tweets_2_corrected') as f:\n",
    "    sad_tweet += [filter_tweet(line.split('\\t')[3]) for line in f.readlines()]\n",
    "\n",
    "with open('data/distance_supervised/distance_supervised_tweets_3_corrected') as f:\n",
    "    sad_tweet += [filter_tweet(line.split('\\t')[3]) for line in f.readlines()]\n",
    "print(len(sad_tweet))\n"
   ]
  },
  {
   "cell_type": "markdown",
   "metadata": {},
   "source": [
    "#### Positive Tweets"
   ]
  },
  {
   "cell_type": "code",
   "execution_count": 4,
   "metadata": {},
   "outputs": [
    {
     "data": {
      "text/plain": [
       "829183"
      ]
     },
     "execution_count": 4,
     "metadata": {},
     "output_type": "execute_result"
    }
   ],
   "source": [
    "with open('data/distance_supervised/smile') as f:\n",
    "    smile_tweet = [filter_tweet(line) for line in f.readlines()]\n",
    "len(smile_tweet)"
   ]
  },
  {
   "cell_type": "code",
   "execution_count": 5,
   "metadata": {},
   "outputs": [
    {
     "name": "stdout",
     "output_type": "stream",
     "text": [
      "460574\n",
      "829162\n"
     ]
    }
   ],
   "source": [
    "# size filter\n",
    "max_length = 60\n",
    "\n",
    "sad_tweet = list(filter(lambda tweet: len(tweet) < max_length, sad_tweet))\n",
    "print(len(sad_tweet))\n",
    "smile_tweet = list(filter(lambda tweet: len(tweet) < max_length, smile_tweet))\n",
    "print(len(smile_tweet))"
   ]
  },
  {
   "cell_type": "markdown",
   "metadata": {},
   "source": [
    "### Build Dictionary"
   ]
  },
  {
   "cell_type": "code",
   "execution_count": 6,
   "metadata": {
    "collapsed": true
   },
   "outputs": [],
   "source": [
    "from collections import defaultdict\n",
    "vocabulary_dict = {}\n",
    "word_index = 0\n",
    "\n",
    "for tweet in smile_tweet+sad_tweet:\n",
    "    for word in tweet:\n",
    "        if word not in vocabulary_dict:\n",
    "            vocabulary_dict[word] = word_index\n",
    "            word_index +=1"
   ]
  },
  {
   "cell_type": "code",
   "execution_count": 7,
   "metadata": {},
   "outputs": [
    {
     "data": {
      "text/plain": [
       "262317"
      ]
     },
     "execution_count": 7,
     "metadata": {},
     "output_type": "execute_result"
    }
   ],
   "source": [
    "vocabulary_dict.get('URLTOK')"
   ]
  },
  {
   "cell_type": "code",
   "execution_count": 8,
   "metadata": {
    "collapsed": true
   },
   "outputs": [],
   "source": [
    "# transform the tweet sentence to numerical representation\n",
    "def word_transform(tweet_set, max_length = 60):\n",
    "    set_array = []\n",
    "    for tweet in tweet_set:\n",
    "        tweet_array = [0] * max_length\n",
    "        for i, word in enumerate(tweet):\n",
    "            if vocabulary_dict.get(word):\n",
    "                tweet_array[i] = vocabulary_dict[word]\n",
    "            else:\n",
    "                tweet_array[i] = 0\n",
    "        set_array.append(tweet_array)\n",
    "    return np.array(set_array)"
   ]
  },
  {
   "cell_type": "code",
   "execution_count": 9,
   "metadata": {},
   "outputs": [
    {
     "name": "stdout",
     "output_type": "stream",
     "text": [
      "(460574, 60)\n",
      "(829162, 60)\n"
     ]
    }
   ],
   "source": [
    "sad_array = word_transform(sad_tweet, max_length = max_length)\n",
    "print(sad_array.shape)\n",
    "smile_array = word_transform(smile_tweet, max_length = max_length)\n",
    "print(smile_array.shape)"
   ]
  },
  {
   "cell_type": "code",
   "execution_count": 10,
   "metadata": {},
   "outputs": [
    {
     "data": {
      "text/plain": [
       "array([ 0,  1,  2,  3,  4,  5,  6,  7,  8,  9, 10, 11, 12, 13, 14, 15, 16,\n",
       "       17, 18, 19, 20, 18, 21,  0,  0,  0,  0,  0,  0,  0,  0,  0,  0,  0,\n",
       "        0,  0,  0,  0,  0,  0,  0,  0,  0,  0,  0,  0,  0,  0,  0,  0,  0,\n",
       "        0,  0,  0,  0,  0,  0,  0,  0,  0])"
      ]
     },
     "execution_count": 10,
     "metadata": {},
     "output_type": "execute_result"
    }
   ],
   "source": [
    "smile_array[0]"
   ]
  },
  {
   "cell_type": "code",
   "execution_count": 11,
   "metadata": {},
   "outputs": [
    {
     "data": {
      "text/plain": [
       "array([329, 412,  73, 196,   0,   0,   0,   0,   0,   0,   0,   0,   0,\n",
       "         0,   0,   0,   0,   0,   0,   0,   0,   0,   0,   0,   0,   0,\n",
       "         0,   0,   0,   0,   0,   0,   0,   0,   0,   0,   0,   0,   0,\n",
       "         0,   0,   0,   0,   0,   0,   0,   0,   0,   0,   0,   0,   0,\n",
       "         0,   0,   0,   0,   0,   0,   0,   0])"
      ]
     },
     "execution_count": 11,
     "metadata": {},
     "output_type": "execute_result"
    }
   ],
   "source": [
    "sad_array[0]"
   ]
  },
  {
   "cell_type": "code",
   "execution_count": 12,
   "metadata": {
    "collapsed": true
   },
   "outputs": [],
   "source": [
    "total_tweets = np.concatenate((smile_array[:460574], sad_array), axis=0)\n",
    "total_labels = np.concatenate((np.zeros(460574), np.ones(460574)), axis=0)"
   ]
  },
  {
   "cell_type": "markdown",
   "metadata": {},
   "source": [
    "## Prepare Training + Testing Data"
   ]
  },
  {
   "cell_type": "code",
   "execution_count": 13,
   "metadata": {},
   "outputs": [
    {
     "data": {
      "text/plain": [
       "array([ 0.,  1.,  0., ...,  0.,  1.,  1.])"
      ]
     },
     "execution_count": 13,
     "metadata": {},
     "output_type": "execute_result"
    }
   ],
   "source": [
    "# from sklearn.model_selection import ShuffleSplit\n",
    "# rs = ShuffleSplit(n_splits=1, test_size=.1, random_state=0)\n",
    "\n",
    "# senti_train = en_train['label'].as_matrix()\n",
    "# senti_test  = en_test['label'].as_matrix()\n",
    "\n",
    "# for train_index, test_index in rs.split(senti):\n",
    "#     X_train = tweets[train_index]\n",
    "#     y_train = senti[train_index]\n",
    "\n",
    "#     X_test = tweets[test_index]\n",
    "#     y_test = senti[test_index]\n",
    "# X_train.shape\n",
    "\n",
    "from sklearn.utils import shuffle\n",
    "X_train, y_train = shuffle(total_tweets, total_labels, random_state=8)\n",
    "\n",
    "y_train"
   ]
  },
  {
   "cell_type": "markdown",
   "metadata": {},
   "source": [
    "# Load Pretrain Word2Vec Model (#DIM 200)"
   ]
  },
  {
   "cell_type": "code",
   "execution_count": 15,
   "metadata": {},
   "outputs": [
    {
     "name": "stdout",
     "output_type": "stream",
     "text": [
      "(1859185, 200)\n",
      "423299\n"
     ]
    }
   ],
   "source": [
    "import pickle\n",
    "\n",
    "# Load pre train Word2vec\n",
    "wb_matrix = np.load(\"data/embed_tweets_en_200M_200D/embedding_matrix.npy\")\n",
    "print(wb_matrix.shape)\n",
    "vocabulary_dict_ = pickle.load(open(\"data/embed_tweets_en_200M_200D/vocabulary.pickle\", \"rb\"))\n",
    "print(len(vocabulary_dict))"
   ]
  },
  {
   "cell_type": "code",
   "execution_count": 16,
   "metadata": {},
   "outputs": [
    {
     "name": "stdout",
     "output_type": "stream",
     "text": [
      "15141\n",
      "(21733, 3204)\n"
     ]
    }
   ],
   "source": [
    "print(vocabulary_dict.get('pairing'))\n",
    "print(vocabulary_dict_.get('pairing'))"
   ]
  },
  {
   "cell_type": "code",
   "execution_count": 22,
   "metadata": {},
   "outputs": [
    {
     "data": {
      "text/plain": [
       "(423299, 200)"
      ]
     },
     "execution_count": 22,
     "metadata": {},
     "output_type": "execute_result"
    }
   ],
   "source": [
    " # initial matrix with random uniform\n",
    "initW = np.random.uniform(-0.25,0.25,(len(vocabulary_dict), wb_matrix.shape[1]))\n",
    "# load any vectors from the word2vec\n",
    "for word, index in vocabulary_dict.items():\n",
    "#     print(word)\n",
    "#     print(index)\n",
    "    try:\n",
    "        idx = vocabulary_dict_.get(word)[0]\n",
    "    except:\n",
    "        continue\n",
    "#     print(idx)\n",
    "    \n",
    "    if idx != 0 and idx is not None:\n",
    "        initW[index] = wb_matrix[idx]\n",
    "        \n",
    "initW.shape"
   ]
  },
  {
   "cell_type": "code",
   "execution_count": 39,
   "metadata": {
    "collapsed": true
   },
   "outputs": [],
   "source": [
    "del wb_matrix, vocabulary_dict_"
   ]
  },
  {
   "cell_type": "markdown",
   "metadata": {},
   "source": [
    "# Distance Supervised Learning"
   ]
  },
  {
   "cell_type": "code",
   "execution_count": 23,
   "metadata": {
    "collapsed": true
   },
   "outputs": [],
   "source": [
    "n_input = max_length\n",
    "n_output = 2\n",
    "learning_rate = 1\n",
    "\n",
    "embedding_size = initW.shape[1]\n",
    "filter_sizes = [4,3]\n",
    "num_filters = 200\n",
    "pooling_size = 4\n",
    "pooling_strides = 2\n",
    "epochs_num = 20\n",
    "batch_size = 2048"
   ]
  },
  {
   "cell_type": "code",
   "execution_count": 24,
   "metadata": {},
   "outputs": [],
   "source": [
    "reset_graph()\n",
    "\n",
    "X = tf.placeholder(tf.int32, shape = (None, n_input), name = \"Input_X\")\n",
    "y = tf.placeholder(tf.int32, shape = (None), name = \"Y\")\n",
    "# mode = tf.placeholder(tf.bool, name = \"Mode\")\n",
    "\n",
    "# Load Embedding Model\n",
    "with tf.device('/cpu:0'), tf.name_scope(\"embedding\"):\n",
    "    word2vec = tf.Variable(tf.constant(0.0, shape = initW.shape),\n",
    "                    trainable=True, name=\"word2vec\") # trainable=False, means not update these embeddings\n",
    "\n",
    "embedded_chars = tf.nn.embedding_lookup(word2vec, X)\n",
    "embedded_chars_expanded = tf.expand_dims(embedded_chars, -1) # ex: convert [[1,2]] to [[1],[2]], that is shape (2,) to (2,1)\n",
    "\n",
    "# 1st convolution layer\n",
    "conv1 = tf.layers.conv2d(embedded_chars_expanded, \n",
    "                         filters = num_filters, \n",
    "                         kernel_size = (filter_sizes[0], initW.shape[1]),\n",
    "                         strides = (1,1), \n",
    "#                          padding=\"same\",\n",
    "                         kernel_initializer=tf.contrib.layers.variance_scaling_initializer(),\n",
    "                         \n",
    "                         activation = tf.nn.relu,\n",
    "                         name=\"Convolution_1st\"\n",
    "                        )\n",
    "\n",
    "pool1 = tf.layers.max_pooling2d(inputs=conv1, pool_size=[4, 1], strides=2)\n",
    "\n",
    "# 2nd convolution layer\n",
    "conv2 = tf.layers.conv2d(pool1, \n",
    "                         filters = num_filters, \n",
    "                         kernel_size = (filter_sizes[1], 1),\n",
    "                         strides = (1,1), \n",
    "                         padding=\"same\",\n",
    "                         kernel_initializer=tf.contrib.layers.variance_scaling_initializer(),\n",
    "                         activation = tf.nn.relu,\n",
    "                         name=\"Convolution_2nd\"\n",
    "                        )\n",
    "\n",
    "pool2 = tf.layers.max_pooling2d(inputs=conv2, pool_size=[27, 1], strides=1)\n",
    "\n",
    "# Dense Layer, Combine all the pooled features\n",
    "pool2_flat = tf.reshape(pool2, [-1, num_filters])\n",
    "\n",
    "dense = tf.layers.dense(inputs=pool2_flat, units=1024, activation=tf.nn.relu, name = \"Fully_connect\")\n",
    "# dense = tf.layers.dropout(inputs = dense, rate = 0.3, training = mode)\n",
    "\n",
    "# Logits Layer\n",
    "logits = tf.layers.dense(inputs=dense, \n",
    "                         units=n_output, \n",
    "                         activation=tf.nn.softmax, \n",
    "#                          kernel_initializer=tf.contrib.layers.variance_scaling_initializer(),\n",
    "                         name = \"Softmax\")\n",
    "\n",
    "# Define Loss Function\n",
    "cross_entropy = tf.reduce_mean(tf.nn.sparse_softmax_cross_entropy_with_logits(labels=y, logits=logits, name=\"Cross_Entropy\"))\n",
    "\n",
    "# Define Training Process\n",
    "train_step = tf.train.AdadeltaOptimizer(learning_rate, epsilon=1e-6).minimize(cross_entropy)\n",
    "\n",
    "# Define Accuracy\n",
    "predicted_class = tf.argmax(logits,1, output_type=tf.int32)\n",
    "correct_predict = tf.equal(y, predicted_class) # [True, False ..., True]\n",
    "accuracy = tf.reduce_mean(tf.cast(correct_predict, tf.float32)) # [True, False ..., True] --> [1,0,...,1]\n"
   ]
  },
  {
   "cell_type": "code",
   "execution_count": 25,
   "metadata": {
    "collapsed": true,
    "scrolled": false
   },
   "outputs": [],
   "source": [
    "# with tf.Session() as sess:\n",
    "#     show_graph(tf.get_default_graph().as_graph_def())\n",
    "#     # Initialize all variables\n",
    "#     sess.run(tf.local_variables_initializer())\n",
    "#     sess.run(tf.global_variables_initializer())\n",
    "    \n",
    "#     sess.run(word2vec.assign(initW))# Assign the pretrain word2vec\n"
   ]
  },
  {
   "cell_type": "code",
   "execution_count": 26,
   "metadata": {
    "collapsed": true
   },
   "outputs": [],
   "source": [
    "# prepare the training batch\n",
    "train_data = tf.contrib.data.Dataset.from_tensor_slices((X_train, y_train)).batch(batch_size).repeat()\n",
    "train_iterator = train_data.make_one_shot_iterator() # Create an iterator to go through the training data\n",
    "train_next_batch = train_iterator.get_next()"
   ]
  },
  {
   "cell_type": "code",
   "execution_count": 27,
   "metadata": {
    "scrolled": false
   },
   "outputs": [
    {
     "name": "stdout",
     "output_type": "stream",
     "text": [
      "449\n"
     ]
    }
   ],
   "source": [
    "round_of_epochs = int(X_train.shape[0]/batch_size)\n",
    "print(round_of_epochs)\n",
    "\n",
    "saver = tf.train.Saver() # to store the model\n",
    "\n",
    "with tf.Session() as sess:\n",
    "    # Initialize all variables\n",
    "    sess.run(tf.local_variables_initializer())\n",
    "    sess.run(tf.global_variables_initializer())\n",
    "    \n",
    "    sess.run(word2vec.assign(initW))# Assign the pretrain word2vec\n",
    "    for _ in range(epochs_num):\n",
    "        for _ in range(round_of_epochs):\n",
    "            train, label = sess.run(train_next_batch) # Get the mini-batch data sample\n",
    "            sess.run(train_step, feed_dict={X:train, y:label}) # Feed the features, labe, training_mode  to network to train\n",
    "\n",
    "        \n",
    "    distance_supervised_embeddings = sess.run(word2vec)\n",
    "    "
   ]
  },
  {
   "cell_type": "markdown",
   "metadata": {},
   "source": [
    "## Distance Supervised Learning Comparsion"
   ]
  },
  {
   "cell_type": "code",
   "execution_count": 28,
   "metadata": {
    "collapsed": true
   },
   "outputs": [],
   "source": [
    "from sklearn.decomposition import PCA\n",
    "import matplotlib.pyplot as plt\n"
   ]
  },
  {
   "cell_type": "code",
   "execution_count": 33,
   "metadata": {
    "collapsed": true
   },
   "outputs": [],
   "source": [
    "def draw_plot(words, matrix, v_dic, nbest=15):\n",
    "    word_vectors = []\n",
    "    for word in words:\n",
    "        index = v_dic[word][0]\n",
    "        word_vectors.append(matrix[index])  \n",
    "    pca = PCA(n_components=2)  \n",
    "    pca.fit(word_vectors)\n",
    "    X = pca.transform(word_vectors)\n",
    "    \n",
    "    xs = X[:, 0]\n",
    "    ys = X[:, 1]\n",
    "\n",
    "    # draw\n",
    "    plt.figure(figsize=(12,8))\n",
    "    plt.scatter(xs, ys, marker = 'o')\n",
    "    for i, w in enumerate(words):\n",
    "        plt.annotate(w, (xs[i], ys[i]))\n",
    "\n",
    "    plt.show()\n",
    "    \n",
    "def draw_plot2(words, matrix, v_dic, nbest=15):\n",
    "    word_vectors = []\n",
    "    for word in words:\n",
    "        index = v_dic[word]\n",
    "        word_vectors.append(matrix[index])  \n",
    "    pca = PCA(n_components=2)  \n",
    "    pca.fit(word_vectors)\n",
    "    X = pca.transform(word_vectors)\n",
    "    \n",
    "    xs = X[:, 0]\n",
    "    ys = X[:, 1]\n",
    "\n",
    "    # draw\n",
    "    plt.figure(figsize=(12,8))\n",
    "    plt.scatter(xs, ys, marker = 'o')\n",
    "    for i, w in enumerate(words):\n",
    "        plt.annotate(w, (xs[i], ys[i]))\n",
    "\n",
    "    plt.show()\n",
    "    \n"
   ]
  },
  {
   "cell_type": "code",
   "execution_count": 34,
   "metadata": {},
   "outputs": [
    {
     "name": "stdout",
     "output_type": "stream",
     "text": [
      "Word2vec with distance supervised learning\n",
      "\n",
      "Before\n"
     ]
    },
    {
     "data": {
      "image/png": "[encoded data removed]",
      "text/plain": [
       "<matplotlib.figure.Figure at 0x7fb760eeed68>"
      ]
     },
     "metadata": {},
     "output_type": "display_data"
    },
    {
     "name": "stdout",
     "output_type": "stream",
     "text": [
      "After\n"
     ]
    },
    {
     "data": {
      "image/png": "[encoded data removed]",
      "text/plain": [
       "<matplotlib.figure.Figure at 0x7fb760eae710>"
      ]
     },
     "metadata": {},
     "output_type": "display_data"
    }
   ],
   "source": [
    "words = ['sadness', 'sobbing', 'cry', 'weep', 'horrible', 'worst', 'awful', 'enjoyable', 'wonderful',\n",
    "         'bad', 'fantastic', 'great', 'good', 'beautiful', 'stunning','gorgeous','glad','well','dumb']\n",
    "\n",
    "plt.rcParams['font.size'] = 18\n",
    "\n",
    "print(\"Word2vec with distance supervised learning\\n\")\n",
    "print(\"Before\")\n",
    "draw_plot(words, wb_matrix, vocabulary_dict_)\n",
    "print(\"After\")\n",
    "draw_plot2(words, distance_supervised_embeddings, vocabulary_dict)"
   ]
  },
  {
   "cell_type": "markdown",
   "metadata": {},
   "source": [
    "### Dump model"
   ]
  },
  {
   "cell_type": "code",
   "execution_count": 104,
   "metadata": {
    "collapsed": true
   },
   "outputs": [],
   "source": [
    "np.save('data/embedding/distance_supervised_800K_200', distance_supervised_embeddings)\n",
    "with open('data/embedding/distance_supervised_800K_200.pickle', 'wb') as f:\n",
    "    pickle.dump(vocabulary_dict,f)"
   ]
  },
  {
   "cell_type": "markdown",
   "metadata": {},
   "source": [
    "# Supervised Learning"
   ]
  },
  {
   "cell_type": "code",
   "execution_count": 35,
   "metadata": {
    "collapsed": true
   },
   "outputs": [],
   "source": [
    "def polarity2label(polarity):\n",
    "    if polarity =='negative':  return 0\n",
    "    elif polarity =='neutral': return 1\n",
    "    elif polarity =='positive':return 2 "
   ]
  },
  {
   "cell_type": "code",
   "execution_count": 36,
   "metadata": {},
   "outputs": [
    {
     "data": {
      "text/html": [
       "<div>\n",
       "<style>\n",
       "    .dataframe thead tr:only-child th {\n",
       "        text-align: right;\n",
       "    }\n",
       "\n",
       "    .dataframe thead th {\n",
       "        text-align: left;\n",
       "    }\n",
       "\n",
       "    .dataframe tbody tr th {\n",
       "        vertical-align: top;\n",
       "    }\n",
       "</style>\n",
       "<table border=\"1\" class=\"dataframe\">\n",
       "  <thead>\n",
       "    <tr style=\"text-align: right;\">\n",
       "      <th></th>\n",
       "      <th>id</th>\n",
       "      <th>lang</th>\n",
       "      <th>polarity</th>\n",
       "      <th>tweet</th>\n",
       "    </tr>\n",
       "  </thead>\n",
       "  <tbody>\n",
       "    <tr>\n",
       "      <th>0</th>\n",
       "      <td>11378</td>\n",
       "      <td>en</td>\n",
       "      <td>neutral</td>\n",
       "      <td>Picturehouse's, Pink Floyd's, 'Roger Waters: T...</td>\n",
       "    </tr>\n",
       "    <tr>\n",
       "      <th>1</th>\n",
       "      <td>11379</td>\n",
       "      <td>en</td>\n",
       "      <td>neutral</td>\n",
       "      <td>Order Go Set a Watchman in store or through ou...</td>\n",
       "    </tr>\n",
       "    <tr>\n",
       "      <th>2</th>\n",
       "      <td>11380</td>\n",
       "      <td>en</td>\n",
       "      <td>negative</td>\n",
       "      <td>If these runway renovations at the airport pre...</td>\n",
       "    </tr>\n",
       "    <tr>\n",
       "      <th>3</th>\n",
       "      <td>11381</td>\n",
       "      <td>en</td>\n",
       "      <td>neutral</td>\n",
       "      <td>If you could ask an onstage interview question...</td>\n",
       "    </tr>\n",
       "    <tr>\n",
       "      <th>4</th>\n",
       "      <td>11382</td>\n",
       "      <td>en</td>\n",
       "      <td>positive</td>\n",
       "      <td>A portion of book sales from our Harper Lee/Go...</td>\n",
       "    </tr>\n",
       "  </tbody>\n",
       "</table>\n",
       "</div>"
      ],
      "text/plain": [
       "      id lang  polarity                                              tweet\n",
       "0  11378   en   neutral  Picturehouse's, Pink Floyd's, 'Roger Waters: T...\n",
       "1  11379   en   neutral  Order Go Set a Watchman in store or through ou...\n",
       "2  11380   en  negative  If these runway renovations at the airport pre...\n",
       "3  11381   en   neutral  If you could ask an onstage interview question...\n",
       "4  11382   en  positive  A portion of book sales from our Harper Lee/Go..."
      ]
     },
     "execution_count": 36,
     "metadata": {},
     "output_type": "execute_result"
    }
   ],
   "source": [
    "# Load Training data\n",
    "en_train = pd.read_csv('data/supervised_phase/en_full/en_full.tsv', delimiter='\\t', names=[\"id\", \"lang\", \"polarity\", \"tweet\"])\n",
    "en_train.head()\n",
    "\n",
    "# Load Testing data\n",
    "en_test = pd.read_csv('data/supervised_phase/en_full/en_test.tsv', delimiter='\\t', names=[\"id\", \"lang\", \"polarity\", \"tweet\"])\n",
    "en_test.head()\n"
   ]
  },
  {
   "cell_type": "code",
   "execution_count": 37,
   "metadata": {},
   "outputs": [
    {
     "data": {
      "text/html": [
       "<div>\n",
       "<style>\n",
       "    .dataframe thead tr:only-child th {\n",
       "        text-align: right;\n",
       "    }\n",
       "\n",
       "    .dataframe thead th {\n",
       "        text-align: left;\n",
       "    }\n",
       "\n",
       "    .dataframe tbody tr th {\n",
       "        vertical-align: top;\n",
       "    }\n",
       "</style>\n",
       "<table border=\"1\" class=\"dataframe\">\n",
       "  <thead>\n",
       "    <tr style=\"text-align: right;\">\n",
       "      <th></th>\n",
       "      <th>id</th>\n",
       "      <th>lang</th>\n",
       "      <th>polarity</th>\n",
       "      <th>tweet</th>\n",
       "      <th>label</th>\n",
       "    </tr>\n",
       "  </thead>\n",
       "  <tbody>\n",
       "    <tr>\n",
       "      <th>0</th>\n",
       "      <td>11378</td>\n",
       "      <td>en</td>\n",
       "      <td>neutral</td>\n",
       "      <td>Picturehouse's, Pink Floyd's, 'Roger Waters: T...</td>\n",
       "      <td>1</td>\n",
       "    </tr>\n",
       "    <tr>\n",
       "      <th>1</th>\n",
       "      <td>11379</td>\n",
       "      <td>en</td>\n",
       "      <td>neutral</td>\n",
       "      <td>Order Go Set a Watchman in store or through ou...</td>\n",
       "      <td>1</td>\n",
       "    </tr>\n",
       "    <tr>\n",
       "      <th>2</th>\n",
       "      <td>11380</td>\n",
       "      <td>en</td>\n",
       "      <td>negative</td>\n",
       "      <td>If these runway renovations at the airport pre...</td>\n",
       "      <td>0</td>\n",
       "    </tr>\n",
       "    <tr>\n",
       "      <th>3</th>\n",
       "      <td>11381</td>\n",
       "      <td>en</td>\n",
       "      <td>neutral</td>\n",
       "      <td>If you could ask an onstage interview question...</td>\n",
       "      <td>1</td>\n",
       "    </tr>\n",
       "    <tr>\n",
       "      <th>4</th>\n",
       "      <td>11382</td>\n",
       "      <td>en</td>\n",
       "      <td>positive</td>\n",
       "      <td>A portion of book sales from our Harper Lee/Go...</td>\n",
       "      <td>2</td>\n",
       "    </tr>\n",
       "  </tbody>\n",
       "</table>\n",
       "</div>"
      ],
      "text/plain": [
       "      id lang  polarity                                              tweet  \\\n",
       "0  11378   en   neutral  Picturehouse's, Pink Floyd's, 'Roger Waters: T...   \n",
       "1  11379   en   neutral  Order Go Set a Watchman in store or through ou...   \n",
       "2  11380   en  negative  If these runway renovations at the airport pre...   \n",
       "3  11381   en   neutral  If you could ask an onstage interview question...   \n",
       "4  11382   en  positive  A portion of book sales from our Harper Lee/Go...   \n",
       "\n",
       "   label  \n",
       "0      1  \n",
       "1      1  \n",
       "2      0  \n",
       "3      1  \n",
       "4      2  "
      ]
     },
     "execution_count": 37,
     "metadata": {},
     "output_type": "execute_result"
    }
   ],
   "source": [
    "en_train['label'] = en_train['polarity'].map(polarity2label)\n",
    "en_train.head()\n",
    "\n",
    "en_test['label'] = en_test['polarity'].map(polarity2label)\n",
    "en_test.head()"
   ]
  },
  {
   "cell_type": "code",
   "execution_count": 38,
   "metadata": {
    "collapsed": true
   },
   "outputs": [],
   "source": [
    "train_tweet = [filter_tweet(tweet) for tweet in en_train['tweet']]\n",
    "test_tweet = [filter_tweet(tweet) for tweet in en_test['tweet']]\n"
   ]
  },
  {
   "cell_type": "code",
   "execution_count": 40,
   "metadata": {},
   "outputs": [
    {
     "name": "stdout",
     "output_type": "stream",
     "text": [
      "(18044, 60)\n",
      "(20632, 60)\n"
     ]
    }
   ],
   "source": [
    "\n",
    "tweets_train = word_transform(train_tweet, max_length = max_length)\n",
    "print(tweets_train.shape)\n",
    "tweets_test = word_transform(test_tweet, max_length = max_length)\n",
    "print(tweets_test.shape)\n",
    "\n",
    "senti_train = en_train['label'].as_matrix()\n",
    "senti_test  = en_test['label'].as_matrix()"
   ]
  },
  {
   "cell_type": "markdown",
   "metadata": {},
   "source": [
    "### Build Model"
   ]
  },
  {
   "cell_type": "code",
   "execution_count": 41,
   "metadata": {
    "collapsed": true
   },
   "outputs": [],
   "source": [
    "n_input = max_length\n",
    "n_output = 3\n",
    "learning_rate = 1\n",
    "\n",
    "embedding_size = distance_supervised_embeddings.shape[1]\n",
    "filter_sizes = [4,3]\n",
    "num_filters = 200\n",
    "pooling_size = 4\n",
    "pooling_strides = 2\n",
    "epochs_num = 500\n",
    "batch_size = 2048"
   ]
  },
  {
   "cell_type": "code",
   "execution_count": 47,
   "metadata": {
    "collapsed": true
   },
   "outputs": [],
   "source": [
    "reset_graph()\n",
    "\n",
    "X = tf.placeholder(tf.int32, shape = (None, n_input), name = \"Input_X\")\n",
    "y = tf.placeholder(tf.int32, shape = (None), name = \"Y\")\n",
    "# mode = tf.placeholder(tf.bool, name = \"Mode\")\n",
    "\n",
    "# Load Embedding Model\n",
    "with tf.device('/cpu:0'), tf.name_scope(\"embedding\"):\n",
    "    word2vec = tf.Variable(tf.constant(0.0, shape = initW.shape),\n",
    "                    trainable=True, name=\"word2vec\") # trainable=False, means not update these embeddings\n",
    "\n",
    "embedded_chars = tf.nn.embedding_lookup(word2vec, X)\n",
    "embedded_chars_expanded = tf.expand_dims(embedded_chars, -1) # ex: convert [[1,2]] to [[1],[2]], that is shape (2,) to (2,1)\n",
    "\n",
    "# 1st convolution layer\n",
    "conv1 = tf.layers.conv2d(embedded_chars_expanded, \n",
    "                         filters = num_filters, \n",
    "                         kernel_size = (filter_sizes[0], initW.shape[1]),\n",
    "                         strides = (1,1), \n",
    "#                          padding=\"same\",\n",
    "                         kernel_initializer=tf.contrib.layers.variance_scaling_initializer(),\n",
    "                         \n",
    "                         activation = tf.nn.relu,\n",
    "                         name=\"Convolution_1st\"\n",
    "                        )\n",
    "\n",
    "pool1 = tf.layers.max_pooling2d(inputs=conv1, pool_size=[4, 1], strides=2)\n",
    "\n",
    "# 2nd convolution layer\n",
    "conv2 = tf.layers.conv2d(pool1, \n",
    "                         filters = num_filters, \n",
    "                         kernel_size = (filter_sizes[1], 1),\n",
    "                         strides = (1,1), \n",
    "                         padding=\"same\",\n",
    "                         kernel_initializer=tf.contrib.layers.variance_scaling_initializer(),\n",
    "                         activation = tf.nn.relu,\n",
    "                         name=\"Convolution_2nd\"\n",
    "                        )\n",
    "\n",
    "pool2 = tf.layers.max_pooling2d(inputs=conv2, pool_size=[27, 1], strides=1)\n",
    "\n",
    "# Dense Layer, Combine all the pooled features\n",
    "pool2_flat = tf.reshape(pool2, [-1, num_filters])\n",
    "\n",
    "dense = tf.layers.dense(inputs=pool2_flat, units=1024, activation=tf.nn.relu, name = \"Fully_connect\")\n",
    "# dense = tf.layers.dropout(inputs = dense, rate = 0.3, training = mode)\n",
    "\n",
    "# Logits Layer\n",
    "logits = tf.layers.dense(inputs=dense, \n",
    "                         units=n_output, \n",
    "                         activation=tf.nn.softmax, \n",
    "#                          kernel_initializer=tf.contrib.layers.variance_scaling_initializer(),\n",
    "                         name = \"Softmax\")\n",
    "\n",
    "# Define Loss Function\n",
    "cross_entropy = tf.reduce_mean(tf.nn.sparse_softmax_cross_entropy_with_logits(labels=y, logits=logits, name=\"Cross_Entropy\"))\n",
    "\n",
    "# Define Training Process\n",
    "train_step = tf.train.AdadeltaOptimizer(learning_rate, epsilon=1e-6).minimize(cross_entropy)\n",
    "\n",
    "# Define Accuracy\n",
    "predicted_class = tf.argmax(logits,1, output_type=tf.int32)\n",
    "correct_predict = tf.equal(y, predicted_class) # [True, False ..., True]\n",
    "accuracy = tf.reduce_mean(tf.cast(correct_predict, tf.float32)) # [True, False ..., True] --> [1,0,...,1]\n"
   ]
  },
  {
   "cell_type": "code",
   "execution_count": 48,
   "metadata": {
    "collapsed": true
   },
   "outputs": [],
   "source": [
    "# prepare the training batch\n",
    "train_data = tf.contrib.data.Dataset.from_tensor_slices((tweets_train, senti_train)).batch(batch_size).repeat()\n",
    "train_iterator = train_data.make_one_shot_iterator() # Create an iterator to go through the training data\n",
    "train_next_batch = train_iterator.get_next()"
   ]
  },
  {
   "cell_type": "code",
   "execution_count": 46,
   "metadata": {},
   "outputs": [
    {
     "name": "stderr",
     "output_type": "stream",
     "text": [
      "/home/yenhao/Documents/chatbot/lib/python3.5/site-packages/sklearn/metrics/classification.py:1135: UndefinedMetricWarning: F-score is ill-defined and being set to 0.0 in labels with no predicted samples.\n",
      "  'precision', 'predicted', average, warn_for)\n"
     ]
    },
    {
     "name": "stdout",
     "output_type": "stream",
     "text": [
      "2017-11-17 23:42:43 -    1 epoch, loss:1.016, train accuracy:0.509, train f1 score:0.344, test f1 score:0.174\n",
      "2017-11-17 23:42:49 -   11 epoch, loss:0.969, train accuracy:0.560, train f1 score:0.512, test f1 score:0.455\n",
      "2017-11-17 23:42:56 -   21 epoch, loss:0.973, train accuracy:0.554, train f1 score:0.446, test f1 score:0.255\n",
      "2017-11-17 23:43:02 -   31 epoch, loss:0.938, train accuracy:0.606, train f1 score:0.536, test f1 score:0.561\n",
      "2017-11-17 23:43:09 -   41 epoch, loss:0.906, train accuracy:0.627, train f1 score:0.567, test f1 score:0.515\n",
      "2017-11-17 23:43:15 -   51 epoch, loss:0.853, train accuracy:0.700, train f1 score:0.652, test f1 score:0.571\n",
      "2017-11-17 23:43:21 -   61 epoch, loss:0.843, train accuracy:0.704, train f1 score:0.654, test f1 score:0.570\n",
      "2017-11-17 23:43:28 -   71 epoch, loss:0.886, train accuracy:0.655, train f1 score:0.594, test f1 score:0.556\n",
      "2017-11-17 23:43:34 -   81 epoch, loss:0.931, train accuracy:0.596, train f1 score:0.552, test f1 score:0.569\n",
      "2017-11-17 23:43:41 -   91 epoch, loss:0.839, train accuracy:0.727, train f1 score:0.677, test f1 score:0.552\n",
      "2017-11-17 23:43:47 -  101 epoch, loss:1.010, train accuracy:0.521, train f1 score:0.405, test f1 score:0.237\n",
      "2017-11-17 23:43:54 -  111 epoch, loss:0.769, train accuracy:0.788, train f1 score:0.734, test f1 score:0.547\n",
      "2017-11-17 23:44:00 -  121 epoch, loss:0.794, train accuracy:0.747, train f1 score:0.662, test f1 score:0.560\n",
      "2017-11-17 23:44:06 -  131 epoch, loss:0.763, train accuracy:0.784, train f1 score:0.719, test f1 score:0.565\n",
      "2017-11-17 23:44:13 -  141 epoch, loss:0.710, train accuracy:0.848, train f1 score:0.822, test f1 score:0.596\n",
      "2017-11-17 23:44:19 -  151 epoch, loss:0.672, train accuracy:0.898, train f1 score:0.891, test f1 score:0.597\n",
      "2017-11-17 23:44:26 -  161 epoch, loss:0.709, train accuracy:0.844, train f1 score:0.829, test f1 score:0.609\n",
      "2017-11-17 23:44:32 -  171 epoch, loss:0.980, train accuracy:0.546, train f1 score:0.436, test f1 score:0.247\n",
      "2017-11-17 23:44:38 -  181 epoch, loss:0.756, train accuracy:0.795, train f1 score:0.790, test f1 score:0.533\n",
      "2017-11-17 23:44:45 -  191 epoch, loss:0.634, train accuracy:0.923, train f1 score:0.922, test f1 score:0.571\n",
      "2017-11-17 23:44:51 -  201 epoch, loss:0.662, train accuracy:0.886, train f1 score:0.879, test f1 score:0.545\n",
      "2017-11-17 23:44:58 -  211 epoch, loss:0.598, train accuracy:0.958, train f1 score:0.958, test f1 score:0.569\n",
      "2017-11-17 23:45:04 -  221 epoch, loss:0.594, train accuracy:0.959, train f1 score:0.959, test f1 score:0.555\n",
      "2017-11-17 23:45:11 -  231 epoch, loss:0.587, train accuracy:0.965, train f1 score:0.965, test f1 score:0.559\n",
      "2017-11-17 23:45:17 -  241 epoch, loss:0.583, train accuracy:0.969, train f1 score:0.969, test f1 score:0.564\n",
      "2017-11-17 23:45:23 -  251 epoch, loss:0.592, train accuracy:0.960, train f1 score:0.961, test f1 score:0.572\n",
      "2017-11-17 23:45:30 -  261 epoch, loss:0.594, train accuracy:0.957, train f1 score:0.957, test f1 score:0.576\n",
      "2017-11-17 23:45:36 -  271 epoch, loss:0.589, train accuracy:0.962, train f1 score:0.962, test f1 score:0.572\n",
      "2017-11-17 23:45:43 -  281 epoch, loss:0.596, train accuracy:0.955, train f1 score:0.955, test f1 score:0.568\n",
      "2017-11-17 23:45:49 -  291 epoch, loss:0.588, train accuracy:0.963, train f1 score:0.963, test f1 score:0.566\n",
      "2017-11-17 23:45:56 -  301 epoch, loss:0.588, train accuracy:0.964, train f1 score:0.964, test f1 score:0.568\n",
      "2017-11-17 23:46:02 -  311 epoch, loss:0.587, train accuracy:0.964, train f1 score:0.964, test f1 score:0.570\n",
      "2017-11-17 23:46:08 -  321 epoch, loss:0.584, train accuracy:0.967, train f1 score:0.967, test f1 score:0.569\n",
      "2017-11-17 23:46:15 -  331 epoch, loss:0.582, train accuracy:0.969, train f1 score:0.969, test f1 score:0.567\n",
      "2017-11-17 23:46:21 -  341 epoch, loss:0.588, train accuracy:0.964, train f1 score:0.964, test f1 score:0.569\n",
      "2017-11-17 23:46:28 -  351 epoch, loss:0.593, train accuracy:0.958, train f1 score:0.958, test f1 score:0.572\n",
      "2017-11-17 23:46:34 -  361 epoch, loss:0.588, train accuracy:0.963, train f1 score:0.963, test f1 score:0.566\n",
      "2017-11-17 23:46:41 -  371 epoch, loss:0.596, train accuracy:0.955, train f1 score:0.955, test f1 score:0.566\n",
      "2017-11-17 23:46:47 -  381 epoch, loss:0.588, train accuracy:0.963, train f1 score:0.963, test f1 score:0.567\n",
      "2017-11-17 23:46:53 -  391 epoch, loss:0.587, train accuracy:0.964, train f1 score:0.964, test f1 score:0.571\n",
      "2017-11-17 23:47:00 -  401 epoch, loss:0.586, train accuracy:0.965, train f1 score:0.965, test f1 score:0.574\n",
      "2017-11-17 23:47:06 -  411 epoch, loss:0.582, train accuracy:0.969, train f1 score:0.969, test f1 score:0.569\n",
      "2017-11-17 23:47:13 -  421 epoch, loss:0.580, train accuracy:0.971, train f1 score:0.971, test f1 score:0.568\n",
      "2017-11-17 23:47:19 -  431 epoch, loss:0.587, train accuracy:0.964, train f1 score:0.964, test f1 score:0.569\n",
      "2017-11-17 23:47:26 -  441 epoch, loss:0.592, train accuracy:0.959, train f1 score:0.959, test f1 score:0.572\n",
      "2017-11-17 23:47:32 -  451 epoch, loss:0.587, train accuracy:0.964, train f1 score:0.964, test f1 score:0.572\n",
      "2017-11-17 23:47:38 -  461 epoch, loss:0.596, train accuracy:0.955, train f1 score:0.955, test f1 score:0.565\n",
      "2017-11-17 23:47:45 -  471 epoch, loss:0.588, train accuracy:0.963, train f1 score:0.963, test f1 score:0.562\n",
      "2017-11-17 23:47:51 -  481 epoch, loss:0.587, train accuracy:0.964, train f1 score:0.964, test f1 score:0.567\n",
      "2017-11-17 23:47:58 -  491 epoch, loss:0.586, train accuracy:0.965, train f1 score:0.965, test f1 score:0.562\n"
     ]
    },
    {
     "data": {
      "image/png": "[encoded data removed]",
      "text/plain": [
       "<matplotlib.figure.Figure at 0x7fb90a6abb70>"
      ]
     },
     "metadata": {},
     "output_type": "display_data"
    },
    {
     "data": {
      "image/png": "[encoded data removed]",
      "text/plain": [
       "<matplotlib.figure.Figure at 0x7fb6db584f28>"
      ]
     },
     "metadata": {},
     "output_type": "display_data"
    }
   ],
   "source": [
    "round_of_epochs = int(tweets_train.shape[0]/batch_size)\n",
    "\n",
    "train_loss = []\n",
    "test_loss  = []\n",
    "\n",
    "train_f1 = []\n",
    "test_f1 = []\n",
    "x_axis = np.arange(0., epochs_num, 5)\n",
    "saver = tf.train.Saver() # to store the model\n",
    "\n",
    "with tf.Session() as sess:\n",
    "    # Initialize all variables\n",
    "    sess.run(tf.local_variables_initializer())\n",
    "    sess.run(tf.global_variables_initializer())\n",
    "    \n",
    "    sess.run(word2vec.assign(distance_supervised_embeddings))# Assign the pretrain word2vec\n",
    "    \n",
    "    for epochs in range(epochs_num): # starting the training process and set the epochs_num\n",
    "        for _ in range(round_of_epochs):\n",
    "            train, label = sess.run(train_next_batch) # Get the mini-batch data sample\n",
    "            sess.run(train_step, feed_dict={X:train, y:label}) # Feed the features, labe, training_mode  to network to train\n",
    "        if epochs % 5 ==0:\n",
    "            loss, pred, acc = sess.run([cross_entropy,predicted_class,accuracy], feed_dict={X:train, y:label})\n",
    "            t_loss, t_pred = sess.run([cross_entropy,predicted_class], feed_dict={X:tweets_test, y:senti_test})\n",
    "            train_loss.append(loss)\n",
    "            test_loss.append(t_loss)\n",
    "            train_f1.append(f1_score(label, pred, average='weighted'))\n",
    "            test_f1.append(f1_score(senti_test, t_pred, average='weighted'))\n",
    "        if epochs % 10 ==0:\n",
    "            print(\"{} - {:4d} epoch, loss:{:.3f}, train accuracy:{:.3f}, train f1 score:{:.3f}, test f1 score:{:.3f}\".format(\n",
    "                datetime.datetime.now().strftime(\"%Y-%m-%d %H:%M:%S\"),\n",
    "                epochs+1,\n",
    "                loss, \n",
    "                acc,\n",
    "                f1_score(label, pred, average='weighted'),\n",
    "                f1_score(senti_test, t_pred, average='weighted')\n",
    "                )\n",
    "            )\n",
    "    plt.rcParams['font.size'] = 14\n",
    "    plt.plot(x_axis, train_loss, 'r', x_axis, test_loss, 'b')\n",
    "    plt.legend(['Train', 'Test'], loc='upper right')\n",
    "    plt.xlabel('Epochs')\n",
    "    plt.ylabel('Loss(cross entropy)')\n",
    "    plt.show()\n",
    "    plt.clf()\n",
    "    plt.plot(x_axis, train_f1, x_axis, test_f1)\n",
    "    plt.legend(['Train', 'Test'], loc='upper right')\n",
    "    plt.xlabel('Epochs')\n",
    "    plt.ylabel('Loss(cross entropy)')\n",
    "    plt.show()\n",
    "\n",
    "    "
   ]
  },
  {
   "cell_type": "code",
   "execution_count": null,
   "metadata": {
    "scrolled": false
   },
   "outputs": [
    {
     "name": "stderr",
     "output_type": "stream",
     "text": [
      "/home/yenhao/Documents/chatbot/lib/python3.5/site-packages/sklearn/metrics/classification.py:1135: UndefinedMetricWarning: F-score is ill-defined and being set to 0.0 in labels with no predicted samples.\n",
      "  'precision', 'predicted', average, warn_for)\n"
     ]
    },
    {
     "name": "stdout",
     "output_type": "stream",
     "text": [
      "2017-11-17 23:50:25 -    1 epoch, loss:1.017, train accuracy:0.509, train f1 score:0.344, test f1 score:0.174\n",
      "2017-11-17 23:50:34 -   11 epoch, loss:0.978, train accuracy:0.551, train f1 score:0.511, test f1 score:0.536\n",
      "2017-11-17 23:50:43 -   21 epoch, loss:0.958, train accuracy:0.568, train f1 score:0.478, test f1 score:0.290\n",
      "2017-11-17 23:50:52 -   31 epoch, loss:0.930, train accuracy:0.621, train f1 score:0.546, test f1 score:0.538\n",
      "2017-11-17 23:51:01 -   41 epoch, loss:0.867, train accuracy:0.683, train f1 score:0.624, test f1 score:0.556\n",
      "2017-11-17 23:51:10 -   51 epoch, loss:0.845, train accuracy:0.703, train f1 score:0.654, test f1 score:0.573\n",
      "2017-11-17 23:51:19 -   61 epoch, loss:0.828, train accuracy:0.719, train f1 score:0.664, test f1 score:0.540\n",
      "2017-11-17 23:51:28 -   71 epoch, loss:0.892, train accuracy:0.652, train f1 score:0.589, test f1 score:0.544\n",
      "2017-11-17 23:51:37 -   81 epoch, loss:0.825, train accuracy:0.723, train f1 score:0.663, test f1 score:0.546\n",
      "2017-11-17 23:51:46 -   91 epoch, loss:0.869, train accuracy:0.673, train f1 score:0.632, test f1 score:0.569\n",
      "2017-11-17 23:51:54 -  101 epoch, loss:1.018, train accuracy:0.512, train f1 score:0.390, test f1 score:0.236\n",
      "2017-11-17 23:52:03 -  111 epoch, loss:0.749, train accuracy:0.803, train f1 score:0.749, test f1 score:0.556\n",
      "2017-11-17 23:52:12 -  121 epoch, loss:0.989, train accuracy:0.547, train f1 score:0.468, test f1 score:0.410\n",
      "2017-11-17 23:52:21 -  131 epoch, loss:0.751, train accuracy:0.794, train f1 score:0.751, test f1 score:0.592\n",
      "2017-11-17 23:52:30 -  141 epoch, loss:0.724, train accuracy:0.819, train f1 score:0.771, test f1 score:0.571\n",
      "2017-11-17 23:52:39 -  151 epoch, loss:0.707, train accuracy:0.836, train f1 score:0.795, test f1 score:0.584\n",
      "2017-11-17 23:52:48 -  161 epoch, loss:0.681, train accuracy:0.878, train f1 score:0.872, test f1 score:0.612\n",
      "2017-11-17 23:52:57 -  171 epoch, loss:0.663, train accuracy:0.893, train f1 score:0.887, test f1 score:0.577\n",
      "2017-11-17 23:53:06 -  181 epoch, loss:0.659, train accuracy:0.893, train f1 score:0.885, test f1 score:0.559\n",
      "2017-11-17 23:53:15 -  191 epoch, loss:0.616, train accuracy:0.939, train f1 score:0.939, test f1 score:0.609\n",
      "2017-11-17 23:53:24 -  201 epoch, loss:0.595, train accuracy:0.957, train f1 score:0.957, test f1 score:0.590\n",
      "2017-11-17 23:53:33 -  211 epoch, loss:0.601, train accuracy:0.952, train f1 score:0.952, test f1 score:0.592\n",
      "2017-11-17 23:53:41 -  221 epoch, loss:0.604, train accuracy:0.947, train f1 score:0.947, test f1 score:0.583\n",
      "2017-11-17 23:53:50 -  231 epoch, loss:0.594, train accuracy:0.957, train f1 score:0.957, test f1 score:0.585\n",
      "2017-11-17 23:53:59 -  241 epoch, loss:0.595, train accuracy:0.956, train f1 score:0.956, test f1 score:0.585\n",
      "2017-11-17 23:54:08 -  251 epoch, loss:0.596, train accuracy:0.956, train f1 score:0.956, test f1 score:0.587\n",
      "2017-11-17 23:54:17 -  261 epoch, loss:0.603, train accuracy:0.948, train f1 score:0.947, test f1 score:0.592\n",
      "2017-11-17 23:54:26 -  271 epoch, loss:0.595, train accuracy:0.956, train f1 score:0.956, test f1 score:0.591\n",
      "2017-11-17 23:54:35 -  281 epoch, loss:0.603, train accuracy:0.948, train f1 score:0.948, test f1 score:0.588\n",
      "2017-11-17 23:54:44 -  291 epoch, loss:0.588, train accuracy:0.963, train f1 score:0.963, test f1 score:0.592\n",
      "2017-11-17 23:54:53 -  301 epoch, loss:0.599, train accuracy:0.952, train f1 score:0.952, test f1 score:0.591\n",
      "2017-11-17 23:55:02 -  311 epoch, loss:0.599, train accuracy:0.952, train f1 score:0.952, test f1 score:0.581\n",
      "2017-11-17 23:55:11 -  321 epoch, loss:0.591, train accuracy:0.960, train f1 score:0.960, test f1 score:0.586\n",
      "2017-11-17 23:55:20 -  331 epoch, loss:0.594, train accuracy:0.957, train f1 score:0.957, test f1 score:0.586\n",
      "2017-11-17 23:55:29 -  341 epoch, loss:0.594, train accuracy:0.958, train f1 score:0.958, test f1 score:0.587\n",
      "2017-11-17 23:55:38 -  351 epoch, loss:0.602, train accuracy:0.949, train f1 score:0.949, test f1 score:0.592\n",
      "2017-11-17 23:55:46 -  361 epoch, loss:0.594, train accuracy:0.957, train f1 score:0.956, test f1 score:0.592\n",
      "2017-11-17 23:55:55 -  371 epoch, loss:0.603, train accuracy:0.948, train f1 score:0.948, test f1 score:0.592\n",
      "2017-11-17 23:56:04 -  381 epoch, loss:0.587, train accuracy:0.963, train f1 score:0.963, test f1 score:0.592\n",
      "2017-11-17 23:56:13 -  391 epoch, loss:0.596, train accuracy:0.955, train f1 score:0.955, test f1 score:0.591\n",
      "2017-11-17 23:56:22 -  401 epoch, loss:0.598, train accuracy:0.952, train f1 score:0.952, test f1 score:0.591\n",
      "2017-11-17 23:56:31 -  411 epoch, loss:0.590, train accuracy:0.960, train f1 score:0.960, test f1 score:0.586\n",
      "2017-11-17 23:56:40 -  421 epoch, loss:0.592, train accuracy:0.959, train f1 score:0.960, test f1 score:0.588\n",
      "2017-11-17 23:56:49 -  431 epoch, loss:0.593, train accuracy:0.958, train f1 score:0.958, test f1 score:0.585\n",
      "2017-11-17 23:56:58 -  441 epoch, loss:0.602, train accuracy:0.949, train f1 score:0.949, test f1 score:0.587\n",
      "2017-11-17 23:57:07 -  451 epoch, loss:0.594, train accuracy:0.957, train f1 score:0.956, test f1 score:0.592\n",
      "2017-11-17 23:57:16 -  461 epoch, loss:0.602, train accuracy:0.948, train f1 score:0.948, test f1 score:0.590\n",
      "2017-11-17 23:57:25 -  471 epoch, loss:0.587, train accuracy:0.964, train f1 score:0.964, test f1 score:0.585\n",
      "2017-11-17 23:57:34 -  481 epoch, loss:0.595, train accuracy:0.956, train f1 score:0.956, test f1 score:0.590\n"
     ]
    }
   ],
   "source": [
    "round_of_epochs = int(tweets_train.shape[0]/batch_size)\n",
    "\n",
    "train_loss = []\n",
    "test_loss  = []\n",
    "\n",
    "train_f1 = []\n",
    "test_f1 = []\n",
    "x_axis = np.arange(0., epochs_num, 5)\n",
    "saver = tf.train.Saver() # to store the model\n",
    "\n",
    "with tf.Session() as sess:\n",
    "    # Initialize all variables\n",
    "    sess.run(tf.local_variables_initializer())\n",
    "    sess.run(tf.global_variables_initializer())\n",
    "    \n",
    "    sess.run(word2vec.assign(distance_supervised_embeddings))# Assign the pretrain word2vec\n",
    "    \n",
    "    for epochs in range(epochs_num): # starting the training process and set the epochs_num\n",
    "        for _ in range(round_of_epochs):\n",
    "            train, label = sess.run(train_next_batch) # Get the mini-batch data sample\n",
    "            sess.run(train_step, feed_dict={X:train, y:label}) # Feed the features, labe, training_mode  to network to train\n",
    "        if epochs % 5 ==0:\n",
    "            loss, pred, acc = sess.run([cross_entropy,predicted_class,accuracy], feed_dict={X:train, y:label})\n",
    "            t_loss, t_pred = sess.run([cross_entropy,predicted_class], feed_dict={X:tweets_test, y:senti_test})\n",
    "            train_loss.append(loss)\n",
    "            test_loss.append(t_loss)\n",
    "            train_f1.append(f1_score(label, pred, average='weighted'))\n",
    "            test_f1.append(f1_score(senti_test, t_pred, average='weighted'))\n",
    "        if epochs % 10 ==0:\n",
    "            print(\"{} - {:4d} epoch, loss:{:.3f}, train accuracy:{:.3f}, train f1 score:{:.3f}, test f1 score:{:.3f}\".format(\n",
    "                datetime.datetime.now().strftime(\"%Y-%m-%d %H:%M:%S\"),\n",
    "                epochs+1,\n",
    "                loss, \n",
    "                acc,\n",
    "                f1_score(label, pred, average='weighted'),\n",
    "                f1_score(senti_test, t_pred, average='weighted')\n",
    "                )\n",
    "            )\n",
    "    plt.rcParams['font.size'] = 14\n",
    "    plt.plot(x_axis, train_loss, 'r', x_axis, test_loss, 'b')\n",
    "    plt.legend(['Train', 'Test'], loc='upper right')\n",
    "    plt.xlabel('Epochs')\n",
    "    plt.ylabel('Loss(cross entropy)')\n",
    "    plt.show()\n",
    "    plt.clf()\n",
    "    plt.plot(x_axis, train_f1, x_axis, test_f1)\n",
    "    plt.legend(['Train', 'Test'], loc='upper right')\n",
    "    plt.xlabel('Epochs')\n",
    "    plt.ylabel('Loss(cross entropy)')\n",
    "    plt.show()\n",
    "\n",
    "    "
   ]
  },
  {
   "cell_type": "code",
   "execution_count": null,
   "metadata": {
    "collapsed": true
   },
   "outputs": [],
   "source": []
  }
 ],
 "metadata": {
  "kernelspec": {
   "display_name": "Python 3",
   "language": "python",
   "name": "python3"
  },
  "language_info": {
   "codemirror_mode": {
    "name": "ipython",
    "version": 3
   },
   "file_extension": ".py",
   "mimetype": "text/x-python",
   "name": "python",
   "nbconvert_exporter": "python",
   "pygments_lexer": "ipython3",
   "version": "3.5.2"
  }
 },
 "nbformat": 4,
 "nbformat_minor": 2
}
