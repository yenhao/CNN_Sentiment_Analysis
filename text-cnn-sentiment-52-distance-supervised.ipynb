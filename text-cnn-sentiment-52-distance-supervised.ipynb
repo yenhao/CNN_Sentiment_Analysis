{
 "cells": [
  {
   "cell_type": "code",
   "execution_count": 23,
   "metadata": {
    "collapsed": true
   },
   "outputs": [],
   "source": [
    "import numpy as np\n",
    "import os\n",
    "import tensorflow as tf\n",
    "from IPython.display import clear_output, Image, display, HTML\n",
    "from tensorflow.contrib.layers import variance_scaling_initializer\n",
    "from tensorflow.contrib.layers import fully_connected\n",
    "from tensorflow.contrib.data import Dataset, Iterator\n",
    "from sklearn.metrics import f1_score, classification_report\n",
    "import datetime\n",
    "\n",
    "###### Do not modify here ###### \n",
    "def strip_consts(graph_def, max_const_size=32):\n",
    "    \"\"\"Strip large constant values from graph_def.\"\"\"\n",
    "    strip_def = tf.GraphDef()\n",
    "    for n0 in graph_def.node:\n",
    "        n = strip_def.node.add() \n",
    "        n.MergeFrom(n0)\n",
    "        if n.op == 'Const':\n",
    "            tensor = n.attr['value'].tensor\n",
    "            size = len(tensor.tensor_content)\n",
    "            if size > max_const_size:\n",
    "                tensor.tensor_content = \"<stripped %d bytes>\"%size\n",
    "    return strip_def\n",
    "\n",
    "def show_graph(graph_def, max_const_size=32):\n",
    "    \"\"\"Visualize TensorFlow graph.\"\"\"\n",
    "    if hasattr(graph_def, 'as_graph_def'):\n",
    "        graph_def = graph_def.as_graph_def()\n",
    "    strip_def = graph_def\n",
    "    #strip_def = strip_consts(graph_def, max_const_size=max_const_size)\n",
    "    code = \"\"\"\n",
    "        <script>\n",
    "          function load() {{\n",
    "            document.getElementById(\"{id}\").pbtxt = {data};\n",
    "          }}\n",
    "        </script>\n",
    "        <link rel=\"import\" href=\"https://tensorboard.appspot.com/tf-graph-basic.build.html\" onload=load()>\n",
    "        <div style=\"height:600px\">\n",
    "          <tf-graph-basic id=\"{id}\"></tf-graph-basic>\n",
    "        </div>\n",
    "    \"\"\".format(data=repr(str(strip_def)), id='graph'+str(np.random.rand()))\n",
    "\n",
    "    iframe = \"\"\"\n",
    "        <iframe seamless style=\"width:1200px;height:620px;border:0\" srcdoc=\"{}\"></iframe>\n",
    "    \"\"\".format(code.replace('\"', '&quot;'))\n",
    "    display(HTML(iframe))\n",
    "###### Do not modify  here ######\n",
    "\n",
    "###### Do not modify here ###### \n",
    "\n",
    "# to make this notebook's output stable across runs\n",
    "def reset_graph(seed=42):\n",
    "    tf.reset_default_graph()\n",
    "    tf.set_random_seed(seed)\n",
    "    np.random.seed(seed)\n",
    "\n"
   ]
  },
  {
   "cell_type": "markdown",
   "metadata": {
    "collapsed": true
   },
   "source": [
    "## Data Preparing"
   ]
  },
  {
   "cell_type": "code",
   "execution_count": 24,
   "metadata": {},
   "outputs": [],
   "source": [
    "from nltk.tokenize import TweetTokenizer\n",
    "import pandas as pd\n",
    "import re\n",
    "\n",
    "tknzr = TweetTokenizer()\n",
    "\n",
    "def filter_tweet(tweet, token = tknzr):\n",
    "    tweet = re.sub('https?:\\/\\/\\S+','URLTOK',tweet.lower().strip()) # url\n",
    "    tweet = re.sub('@(?:[a-zA-Z]+|[0-9 \\/]+)', 'USRTOK', tweet) # mention\n",
    "    tweet = re.sub('(\\:|\\=)(?:\\)|\\-|\\(|D| )+', '', tweet) # emoticon\n",
    "    return token.tokenize(tweet) # return tokenized\n",
    "\n"
   ]
  },
  {
   "cell_type": "markdown",
   "metadata": {},
   "source": [
    "### Load positive data"
   ]
  },
  {
   "cell_type": "markdown",
   "metadata": {},
   "source": [
    "#### Negative Tweets"
   ]
  },
  {
   "cell_type": "code",
   "execution_count": 25,
   "metadata": {},
   "outputs": [
    {
     "name": "stdout",
     "output_type": "stream",
     "text": [
      "461280\n"
     ]
    }
   ],
   "source": [
    "with open('data/distance_supervised/sad') as f:\n",
    "    sad_tweet = [filter_tweet(line) for line in f.readlines()]\n",
    "\n",
    "with open('data/distance_supervised/distance_supervised_tweets_corrected') as f:\n",
    "    sad_tweet += [filter_tweet(line.split('\\t')[3]) for line in f.readlines()]\n",
    "\n",
    "with open('data/distance_supervised/distance_supervised_tweets_2_corrected') as f:\n",
    "    sad_tweet += [filter_tweet(line.split('\\t')[3]) for line in f.readlines()]\n",
    "\n",
    "with open('data/distance_supervised/distance_supervised_tweets_3_corrected') as f:\n",
    "    sad_tweet += [filter_tweet(line.split('\\t')[3]) for line in f.readlines()]\n",
    "print(len(sad_tweet))\n"
   ]
  },
  {
   "cell_type": "markdown",
   "metadata": {},
   "source": [
    "#### Positive Tweets"
   ]
  },
  {
   "cell_type": "code",
   "execution_count": 26,
   "metadata": {},
   "outputs": [
    {
     "data": {
      "text/plain": [
       "829183"
      ]
     },
     "execution_count": 26,
     "metadata": {},
     "output_type": "execute_result"
    }
   ],
   "source": [
    "with open('data/distance_supervised/smile') as f:\n",
    "    smile_tweet = [filter_tweet(line) for line in f.readlines()]\n",
    "len(smile_tweet)"
   ]
  },
  {
   "cell_type": "code",
   "execution_count": 27,
   "metadata": {},
   "outputs": [
    {
     "name": "stdout",
     "output_type": "stream",
     "text": [
      "460574\n",
      "829162\n"
     ]
    }
   ],
   "source": [
    "# size filter\n",
    "max_length = 60\n",
    "\n",
    "sad_tweet = list(filter(lambda tweet: len(tweet) < max_length, sad_tweet))\n",
    "print(len(sad_tweet))\n",
    "smile_tweet = list(filter(lambda tweet: len(tweet) < max_length, smile_tweet))\n",
    "print(len(smile_tweet))"
   ]
  },
  {
   "cell_type": "markdown",
   "metadata": {},
   "source": [
    "### Build Dictionary"
   ]
  },
  {
   "cell_type": "code",
   "execution_count": 28,
   "metadata": {},
   "outputs": [],
   "source": [
    "from collections import defaultdict\n",
    "vocabulary_dict = {}\n",
    "word_index = 0\n",
    "\n",
    "for tweet in smile_tweet+sad_tweet:\n",
    "    for word in tweet:\n",
    "        if word not in vocabulary_dict:\n",
    "            vocabulary_dict[word] = word_index\n",
    "            word_index +=1"
   ]
  },
  {
   "cell_type": "code",
   "execution_count": 29,
   "metadata": {},
   "outputs": [
    {
     "data": {
      "text/plain": [
       "262317"
      ]
     },
     "execution_count": 29,
     "metadata": {},
     "output_type": "execute_result"
    }
   ],
   "source": [
    "vocabulary_dict.get('URLTOK')"
   ]
  },
  {
   "cell_type": "code",
   "execution_count": 63,
   "metadata": {},
   "outputs": [],
   "source": [
    "# transform the tweet sentence to numerical representation\n",
    "def word_transform(tweet_set, max_length = 60):\n",
    "    set_array = []\n",
    "    for tweet in tweet_set:\n",
    "        tweet_array = [0] * max_length\n",
    "        for i, word in enumerate(tweet):\n",
    "            if vocabulary_dict.get(word):\n",
    "                tweet_array[i] = vocabulary_dict[word]\n",
    "            else:\n",
    "                tweet_array[i] = 0\n",
    "        set_array.append(tweet_array)\n",
    "    return np.array(set_array)"
   ]
  },
  {
   "cell_type": "code",
   "execution_count": 31,
   "metadata": {},
   "outputs": [
    {
     "name": "stdout",
     "output_type": "stream",
     "text": [
      "(460574, 60)\n",
      "(829162, 60)\n"
     ]
    }
   ],
   "source": [
    "sad_array = word_transform(sad_tweet, max_length = max_length)\n",
    "print(sad_array.shape)\n",
    "smile_array = word_transform(smile_tweet, max_length = max_length)\n",
    "print(smile_array.shape)"
   ]
  },
  {
   "cell_type": "code",
   "execution_count": 32,
   "metadata": {},
   "outputs": [
    {
     "data": {
      "text/plain": [
       "array([ 0,  1,  2,  3,  4,  5,  6,  7,  8,  9, 10, 11, 12, 13, 14, 15, 16,\n",
       "       17, 18, 19, 20, 18, 21,  0,  0,  0,  0,  0,  0,  0,  0,  0,  0,  0,\n",
       "        0,  0,  0,  0,  0,  0,  0,  0,  0,  0,  0,  0,  0,  0,  0,  0,  0,\n",
       "        0,  0,  0,  0,  0,  0,  0,  0,  0])"
      ]
     },
     "execution_count": 32,
     "metadata": {},
     "output_type": "execute_result"
    }
   ],
   "source": [
    "smile_array[0]"
   ]
  },
  {
   "cell_type": "code",
   "execution_count": 33,
   "metadata": {},
   "outputs": [
    {
     "data": {
      "text/plain": [
       "array([329, 412,  73, 196,   0,   0,   0,   0,   0,   0,   0,   0,   0,\n",
       "         0,   0,   0,   0,   0,   0,   0,   0,   0,   0,   0,   0,   0,\n",
       "         0,   0,   0,   0,   0,   0,   0,   0,   0,   0,   0,   0,   0,\n",
       "         0,   0,   0,   0,   0,   0,   0,   0,   0,   0,   0,   0,   0,\n",
       "         0,   0,   0,   0,   0,   0,   0,   0])"
      ]
     },
     "execution_count": 33,
     "metadata": {},
     "output_type": "execute_result"
    }
   ],
   "source": [
    "sad_array[0]"
   ]
  },
  {
   "cell_type": "code",
   "execution_count": 34,
   "metadata": {},
   "outputs": [],
   "source": [
    "total_tweets = np.concatenate((smile_array[:460574], sad_array), axis=0)\n",
    "total_labels = np.concatenate((np.zeros(460574), np.ones(460574)), axis=0)"
   ]
  },
  {
   "cell_type": "markdown",
   "metadata": {},
   "source": [
    "## Prepare Training + Testing Data"
   ]
  },
  {
   "cell_type": "code",
   "execution_count": 35,
   "metadata": {},
   "outputs": [
    {
     "data": {
      "text/plain": [
       "array([ 0.,  1.,  0., ...,  0.,  1.,  1.])"
      ]
     },
     "execution_count": 35,
     "metadata": {},
     "output_type": "execute_result"
    }
   ],
   "source": [
    "# from sklearn.model_selection import ShuffleSplit\n",
    "# rs = ShuffleSplit(n_splits=1, test_size=.1, random_state=0)\n",
    "\n",
    "# senti_train = en_train['label'].as_matrix()\n",
    "# senti_test  = en_test['label'].as_matrix()\n",
    "\n",
    "# for train_index, test_index in rs.split(senti):\n",
    "#     X_train = tweets[train_index]\n",
    "#     y_train = senti[train_index]\n",
    "\n",
    "#     X_test = tweets[test_index]\n",
    "#     y_test = senti[test_index]\n",
    "# X_train.shape\n",
    "\n",
    "from sklearn.utils import shuffle\n",
    "X_train, y_train = shuffle(total_tweets, total_labels, random_state=8)\n",
    "\n",
    "y_train"
   ]
  },
  {
   "cell_type": "markdown",
   "metadata": {},
   "source": [
    "# Load Pretrain Word2Vec Model (#DIM 52)"
   ]
  },
  {
   "cell_type": "code",
   "execution_count": 85,
   "metadata": {},
   "outputs": [
    {
     "name": "stdout",
     "output_type": "stream",
     "text": [
      "(6140853, 52)\n",
      "423299\n"
     ]
    }
   ],
   "source": [
    "import pickle\n",
    "\n",
    "# Load pre train Word2vec\n",
    "wb_matrix = np.load(\"data/embedding/en_word2vec_52.npy\")\n",
    "print(wb_matrix.shape)\n",
    "vocabulary_dict_ = pickle.load(open(\"data/embedding/vocabulary_dict_52.pickle\", \"rb\"))\n",
    "print(len(vocabulary_dict))"
   ]
  },
  {
   "cell_type": "code",
   "execution_count": 37,
   "metadata": {},
   "outputs": [
    {
     "name": "stdout",
     "output_type": "stream",
     "text": [
      "15141\n",
      "6135083\n"
     ]
    }
   ],
   "source": [
    "print(vocabulary_dict.get('pairing'))\n",
    "print(vocabulary_dict_.get('pairing'))"
   ]
  },
  {
   "cell_type": "code",
   "execution_count": 38,
   "metadata": {},
   "outputs": [
    {
     "data": {
      "text/plain": [
       "(423299, 52)"
      ]
     },
     "execution_count": 38,
     "metadata": {},
     "output_type": "execute_result"
    }
   ],
   "source": [
    " # initial matrix with random uniform\n",
    "initW = np.random.uniform(-0.25,0.25,(len(vocabulary_dict), wb_matrix.shape[1]))\n",
    "# load any vectors from the word2vec\n",
    "for word, index in vocabulary_dict.items():\n",
    "#     print(word)\n",
    "#     print(index)\n",
    "    idx = vocabulary_dict_.get(word)\n",
    "#     print(idx)\n",
    "    \n",
    "    if idx != 0 and idx is not None:\n",
    "        initW[index] = wb_matrix[idx]\n",
    "        \n",
    "initW.shape"
   ]
  },
  {
   "cell_type": "code",
   "execution_count": 39,
   "metadata": {
    "collapsed": true
   },
   "outputs": [],
   "source": [
    "del wb_matrix, vocabulary_dict_"
   ]
  },
  {
   "cell_type": "markdown",
   "metadata": {},
   "source": [
    "# Distance Supervised Learning"
   ]
  },
  {
   "cell_type": "code",
   "execution_count": 95,
   "metadata": {
    "collapsed": true
   },
   "outputs": [],
   "source": [
    "n_input = max_length\n",
    "n_output = 2\n",
    "learning_rate = 1\n",
    "\n",
    "embedding_size = initW.shape[1]\n",
    "filter_sizes = [4,3]\n",
    "num_filters = 200\n",
    "pooling_size = 4\n",
    "pooling_strides = 2\n",
    "epochs_num = 50\n",
    "batch_size = 2048"
   ]
  },
  {
   "cell_type": "code",
   "execution_count": 96,
   "metadata": {},
   "outputs": [
    {
     "name": "stdout",
     "output_type": "stream",
     "text": [
      "(?, 27, 1, 200)\n"
     ]
    }
   ],
   "source": [
    "reset_graph()\n",
    "\n",
    "X = tf.placeholder(tf.int32, shape = (None, n_input), name = \"Input_X\")\n",
    "y = tf.placeholder(tf.int32, shape = (None), name = \"Y\")\n",
    "# mode = tf.placeholder(tf.bool, name = \"Mode\")\n",
    "\n",
    "# Load Embedding Model\n",
    "with tf.device('/cpu:0'), tf.name_scope(\"embedding\"):\n",
    "    word2vec = tf.Variable(tf.constant(0.0, shape = initW.shape),\n",
    "                    trainable=True, name=\"word2vec\") # trainable=False, means not update these embeddings\n",
    "\n",
    "embedded_chars = tf.nn.embedding_lookup(word2vec, X)\n",
    "embedded_chars_expanded = tf.expand_dims(embedded_chars, -1) # ex: convert [[1,2]] to [[1],[2]], that is shape (2,) to (2,1)\n",
    "\n",
    "# 1st convolution layer\n",
    "conv1 = tf.layers.conv2d(embedded_chars_expanded, \n",
    "                         filters = num_filters, \n",
    "                         kernel_size = (filter_sizes[0], initW.shape[1]),\n",
    "                         strides = (1,1), \n",
    "#                          padding=\"same\",\n",
    "                         kernel_initializer=tf.contrib.layers.variance_scaling_initializer(),\n",
    "                         \n",
    "                         activation = tf.nn.relu,\n",
    "                         name=\"Convolution_1st\"\n",
    "                        )\n",
    "\n",
    "pool1 = tf.layers.max_pooling2d(inputs=conv1, pool_size=[4, 1], strides=2)\n",
    "\n",
    "# 2nd convolution layer\n",
    "conv2 = tf.layers.conv2d(pool1, \n",
    "                         filters = num_filters, \n",
    "                         kernel_size = (filter_sizes[1], 1),\n",
    "                         strides = (1,1), \n",
    "                         padding=\"same\",\n",
    "                         kernel_initializer=tf.contrib.layers.variance_scaling_initializer(),\n",
    "                         activation = tf.nn.relu,\n",
    "                         name=\"Convolution_2nd\"\n",
    "                        )\n",
    "\n",
    "pool2 = tf.layers.max_pooling2d(inputs=conv2, pool_size=[27, 1], strides=1)\n",
    "\n",
    "# Dense Layer, Combine all the pooled features\n",
    "pool2_flat = tf.reshape(pool2, [-1, num_filters])\n",
    "\n",
    "dense = tf.layers.dense(inputs=pool2_flat, units=1024, activation=tf.nn.relu, name = \"Fully_connect\")\n",
    "# dense = tf.layers.dropout(inputs = dense, rate = 0.3, training = mode)\n",
    "\n",
    "# Logits Layer\n",
    "logits = tf.layers.dense(inputs=dense, \n",
    "                         units=n_output, \n",
    "                         activation=tf.nn.softmax, \n",
    "#                          kernel_initializer=tf.contrib.layers.variance_scaling_initializer(),\n",
    "                         name = \"Softmax\")\n",
    "\n",
    "# Define Loss Function\n",
    "cross_entropy = tf.reduce_mean(tf.nn.sparse_softmax_cross_entropy_with_logits(labels=y, logits=logits, name=\"Cross_Entropy\"))\n",
    "\n",
    "# Define Training Process\n",
    "train_step = tf.train.AdadeltaOptimizer(learning_rate, epsilon=1e-6).minimize(cross_entropy)\n",
    "\n",
    "# Define Accuracy\n",
    "predicted_class = tf.argmax(logits,1, output_type=tf.int32)\n",
    "correct_predict = tf.equal(y, predicted_class) # [True, False ..., True]\n",
    "accuracy = tf.reduce_mean(tf.cast(correct_predict, tf.float32)) # [True, False ..., True] --> [1,0,...,1]\n"
   ]
  },
  {
   "cell_type": "code",
   "execution_count": 94,
   "metadata": {
    "scrolled": false
   },
   "outputs": [],
   "source": [
    "# with tf.Session() as sess:\n",
    "#     show_graph(tf.get_default_graph().as_graph_def())\n",
    "#     # Initialize all variables\n",
    "#     sess.run(tf.local_variables_initializer())\n",
    "#     sess.run(tf.global_variables_initializer())\n",
    "    \n",
    "#     sess.run(word2vec.assign(initW))# Assign the pretrain word2vec\n"
   ]
  },
  {
   "cell_type": "code",
   "execution_count": 97,
   "metadata": {
    "collapsed": true
   },
   "outputs": [],
   "source": [
    "# prepare the training batch\n",
    "train_data = tf.contrib.data.Dataset.from_tensor_slices((X_train, y_train)).batch(batch_size).repeat()\n",
    "train_iterator = train_data.make_one_shot_iterator() # Create an iterator to go through the training data\n",
    "train_next_batch = train_iterator.get_next()"
   ]
  },
  {
   "cell_type": "code",
   "execution_count": 98,
   "metadata": {
    "scrolled": false
   },
   "outputs": [
    {
     "name": "stdout",
     "output_type": "stream",
     "text": [
      "449\n"
     ]
    }
   ],
   "source": [
    "round_of_epochs = int(X_train.shape[0]/batch_size)\n",
    "print(round_of_epochs)\n",
    "\n",
    "saver = tf.train.Saver() # to store the model\n",
    "\n",
    "with tf.Session() as sess:\n",
    "    # Initialize all variables\n",
    "    sess.run(tf.local_variables_initializer())\n",
    "    sess.run(tf.global_variables_initializer())\n",
    "    \n",
    "    sess.run(word2vec.assign(initW))# Assign the pretrain word2vec\n",
    "    for _ in range(epochs_num):\n",
    "        for _ in range(round_of_epochs):\n",
    "            train, label = sess.run(train_next_batch) # Get the mini-batch data sample\n",
    "            sess.run(train_step, feed_dict={X:train, y:label}) # Feed the features, labe, training_mode  to network to train\n",
    "\n",
    "        \n",
    "    distance_supervised_embeddings = sess.run(word2vec)\n",
    "    "
   ]
  },
  {
   "cell_type": "markdown",
   "metadata": {},
   "source": [
    "## Distance Supervised Learning Comparsion"
   ]
  },
  {
   "cell_type": "code",
   "execution_count": 126,
   "metadata": {},
   "outputs": [],
   "source": [
    "from sklearn.decomposition import PCA\n",
    "import matplotlib.pyplot as plt\n"
   ]
  },
  {
   "cell_type": "code",
   "execution_count": 102,
   "metadata": {
    "collapsed": true
   },
   "outputs": [],
   "source": [
    "def draw_plot(words, matrix, v_dic, nbest=15):\n",
    "    word_vectors = []\n",
    "    for word in words:\n",
    "        index = v_dic[word]\n",
    "        word_vectors.append(matrix[index])  \n",
    "    pca = PCA(n_components=2)  \n",
    "    pca.fit(word_vectors)\n",
    "    X = pca.transform(word_vectors)\n",
    "    \n",
    "    xs = X[:, 0]\n",
    "    ys = X[:, 1]\n",
    "\n",
    "    # draw\n",
    "    plt.figure(figsize=(12,8))\n",
    "    plt.scatter(xs, ys, marker = 'o')\n",
    "    for i, w in enumerate(words):\n",
    "        plt.annotate(w, (xs[i], ys[i]))\n",
    "\n",
    "    plt.show()"
   ]
  },
  {
   "cell_type": "code",
   "execution_count": 127,
   "metadata": {},
   "outputs": [
    {
     "name": "stdout",
     "output_type": "stream",
     "text": [
      "Word2vec with distance supervised learning\n",
      "\n",
      "Before\n"
     ]
    },
    {
     "data": {
      "image/png": "[encoded data removed]",
      "text/plain": [
       "<matplotlib.figure.Figure at 0x7f167a36cf28>"
      ]
     },
     "metadata": {},
     "output_type": "display_data"
    },
    {
     "name": "stdout",
     "output_type": "stream",
     "text": [
      "After\n"
     ]
    },
    {
     "data": {
      "image/png": "[encoded data removed]",
      "text/plain": [
       "<matplotlib.figure.Figure at 0x7f167ec76860>"
      ]
     },
     "metadata": {},
     "output_type": "display_data"
    }
   ],
   "source": [
    "words = ['sadness', 'sobbing', 'cry', 'weep', 'horrible', 'worst', 'awful', 'enjoyable', 'wonderful',\n",
    "         'bad', 'fantastic', 'great', 'good', 'beautiful', 'stunning','gorgeous','glad','well','dumb']\n",
    "\n",
    "plt.rcParams['font.size'] = 18\n",
    "\n",
    "print(\"Word2vec with distance supervised learning\\n\")\n",
    "print(\"Before\")\n",
    "draw_plot(words, wb_matrix, vocabulary_dict_)\n",
    "print(\"After\")\n",
    "draw_plot(words, distance_supervised_embeddings, vocabulary_dict)"
   ]
  },
  {
   "cell_type": "markdown",
   "metadata": {},
   "source": [
    "### Dump model"
   ]
  },
  {
   "cell_type": "code",
   "execution_count": 104,
   "metadata": {},
   "outputs": [],
   "source": [
    "np.save('data/embedding/distance_supervised_800K', distance_supervised_embeddings)\n",
    "with open('data/embedding/distance_supervised_800K.pickle', 'wb') as f:\n",
    "    pickle.dump(vocabulary_dict,f)"
   ]
  },
  {
   "cell_type": "markdown",
   "metadata": {},
   "source": [
    "# Supervised Learning"
   ]
  },
  {
   "cell_type": "code",
   "execution_count": 55,
   "metadata": {
    "collapsed": true
   },
   "outputs": [],
   "source": [
    "def polarity2label(polarity):\n",
    "    if polarity =='negative':  return 0\n",
    "    elif polarity =='neutral': return 1\n",
    "    elif polarity =='positive':return 2 "
   ]
  },
  {
   "cell_type": "code",
   "execution_count": 56,
   "metadata": {},
   "outputs": [
    {
     "data": {
      "text/html": [
       "<div>\n",
       "<style>\n",
       "    .dataframe thead tr:only-child th {\n",
       "        text-align: right;\n",
       "    }\n",
       "\n",
       "    .dataframe thead th {\n",
       "        text-align: left;\n",
       "    }\n",
       "\n",
       "    .dataframe tbody tr th {\n",
       "        vertical-align: top;\n",
       "    }\n",
       "</style>\n",
       "<table border=\"1\" class=\"dataframe\">\n",
       "  <thead>\n",
       "    <tr style=\"text-align: right;\">\n",
       "      <th></th>\n",
       "      <th>id</th>\n",
       "      <th>lang</th>\n",
       "      <th>polarity</th>\n",
       "      <th>tweet</th>\n",
       "    </tr>\n",
       "  </thead>\n",
       "  <tbody>\n",
       "    <tr>\n",
       "      <th>0</th>\n",
       "      <td>11378</td>\n",
       "      <td>en</td>\n",
       "      <td>neutral</td>\n",
       "      <td>Picturehouse's, Pink Floyd's, 'Roger Waters: T...</td>\n",
       "    </tr>\n",
       "    <tr>\n",
       "      <th>1</th>\n",
       "      <td>11379</td>\n",
       "      <td>en</td>\n",
       "      <td>neutral</td>\n",
       "      <td>Order Go Set a Watchman in store or through ou...</td>\n",
       "    </tr>\n",
       "    <tr>\n",
       "      <th>2</th>\n",
       "      <td>11380</td>\n",
       "      <td>en</td>\n",
       "      <td>negative</td>\n",
       "      <td>If these runway renovations at the airport pre...</td>\n",
       "    </tr>\n",
       "    <tr>\n",
       "      <th>3</th>\n",
       "      <td>11381</td>\n",
       "      <td>en</td>\n",
       "      <td>neutral</td>\n",
       "      <td>If you could ask an onstage interview question...</td>\n",
       "    </tr>\n",
       "    <tr>\n",
       "      <th>4</th>\n",
       "      <td>11382</td>\n",
       "      <td>en</td>\n",
       "      <td>positive</td>\n",
       "      <td>A portion of book sales from our Harper Lee/Go...</td>\n",
       "    </tr>\n",
       "  </tbody>\n",
       "</table>\n",
       "</div>"
      ],
      "text/plain": [
       "      id lang  polarity                                              tweet\n",
       "0  11378   en   neutral  Picturehouse's, Pink Floyd's, 'Roger Waters: T...\n",
       "1  11379   en   neutral  Order Go Set a Watchman in store or through ou...\n",
       "2  11380   en  negative  If these runway renovations at the airport pre...\n",
       "3  11381   en   neutral  If you could ask an onstage interview question...\n",
       "4  11382   en  positive  A portion of book sales from our Harper Lee/Go..."
      ]
     },
     "execution_count": 56,
     "metadata": {},
     "output_type": "execute_result"
    }
   ],
   "source": [
    "# Load Training data\n",
    "en_train = pd.read_csv('data/supervised_phase/en_full/en_full.tsv', delimiter='\\t', names=[\"id\", \"lang\", \"polarity\", \"tweet\"])\n",
    "en_train.head()\n",
    "\n",
    "# Load Testing data\n",
    "en_test = pd.read_csv('data/supervised_phase/en_full/en_test.tsv', delimiter='\\t', names=[\"id\", \"lang\", \"polarity\", \"tweet\"])\n",
    "en_test.head()\n"
   ]
  },
  {
   "cell_type": "code",
   "execution_count": 57,
   "metadata": {},
   "outputs": [
    {
     "data": {
      "text/html": [
       "<div>\n",
       "<style>\n",
       "    .dataframe thead tr:only-child th {\n",
       "        text-align: right;\n",
       "    }\n",
       "\n",
       "    .dataframe thead th {\n",
       "        text-align: left;\n",
       "    }\n",
       "\n",
       "    .dataframe tbody tr th {\n",
       "        vertical-align: top;\n",
       "    }\n",
       "</style>\n",
       "<table border=\"1\" class=\"dataframe\">\n",
       "  <thead>\n",
       "    <tr style=\"text-align: right;\">\n",
       "      <th></th>\n",
       "      <th>id</th>\n",
       "      <th>lang</th>\n",
       "      <th>polarity</th>\n",
       "      <th>tweet</th>\n",
       "      <th>label</th>\n",
       "    </tr>\n",
       "  </thead>\n",
       "  <tbody>\n",
       "    <tr>\n",
       "      <th>0</th>\n",
       "      <td>11378</td>\n",
       "      <td>en</td>\n",
       "      <td>neutral</td>\n",
       "      <td>Picturehouse's, Pink Floyd's, 'Roger Waters: T...</td>\n",
       "      <td>1</td>\n",
       "    </tr>\n",
       "    <tr>\n",
       "      <th>1</th>\n",
       "      <td>11379</td>\n",
       "      <td>en</td>\n",
       "      <td>neutral</td>\n",
       "      <td>Order Go Set a Watchman in store or through ou...</td>\n",
       "      <td>1</td>\n",
       "    </tr>\n",
       "    <tr>\n",
       "      <th>2</th>\n",
       "      <td>11380</td>\n",
       "      <td>en</td>\n",
       "      <td>negative</td>\n",
       "      <td>If these runway renovations at the airport pre...</td>\n",
       "      <td>0</td>\n",
       "    </tr>\n",
       "    <tr>\n",
       "      <th>3</th>\n",
       "      <td>11381</td>\n",
       "      <td>en</td>\n",
       "      <td>neutral</td>\n",
       "      <td>If you could ask an onstage interview question...</td>\n",
       "      <td>1</td>\n",
       "    </tr>\n",
       "    <tr>\n",
       "      <th>4</th>\n",
       "      <td>11382</td>\n",
       "      <td>en</td>\n",
       "      <td>positive</td>\n",
       "      <td>A portion of book sales from our Harper Lee/Go...</td>\n",
       "      <td>2</td>\n",
       "    </tr>\n",
       "  </tbody>\n",
       "</table>\n",
       "</div>"
      ],
      "text/plain": [
       "      id lang  polarity                                              tweet  \\\n",
       "0  11378   en   neutral  Picturehouse's, Pink Floyd's, 'Roger Waters: T...   \n",
       "1  11379   en   neutral  Order Go Set a Watchman in store or through ou...   \n",
       "2  11380   en  negative  If these runway renovations at the airport pre...   \n",
       "3  11381   en   neutral  If you could ask an onstage interview question...   \n",
       "4  11382   en  positive  A portion of book sales from our Harper Lee/Go...   \n",
       "\n",
       "   label  \n",
       "0      1  \n",
       "1      1  \n",
       "2      0  \n",
       "3      1  \n",
       "4      2  "
      ]
     },
     "execution_count": 57,
     "metadata": {},
     "output_type": "execute_result"
    }
   ],
   "source": [
    "en_train['label'] = en_train['polarity'].map(polarity2label)\n",
    "en_train.head()\n",
    "\n",
    "en_test['label'] = en_test['polarity'].map(polarity2label)\n",
    "en_test.head()"
   ]
  },
  {
   "cell_type": "code",
   "execution_count": 61,
   "metadata": {},
   "outputs": [],
   "source": [
    "train_tweet = [filter_tweet(tweet) for tweet in en_train['tweet']]\n",
    "test_tweet = [filter_tweet(tweet) for tweet in en_test['tweet']]\n"
   ]
  },
  {
   "cell_type": "code",
   "execution_count": 72,
   "metadata": {},
   "outputs": [
    {
     "name": "stdout",
     "output_type": "stream",
     "text": [
      "(18044, 60)\n",
      "(20632, 60)\n"
     ]
    }
   ],
   "source": [
    "\n",
    "tweets_train = word_transform(train_tweet, max_length = max_length)\n",
    "print(train_array.shape)\n",
    "tweets_test = word_transform(test_tweet, max_length = max_length)\n",
    "print(test_array.shape)\n",
    "\n",
    "senti_train = en_train['label'].as_matrix()\n",
    "senti_test  = en_test['label'].as_matrix()"
   ]
  },
  {
   "cell_type": "markdown",
   "metadata": {},
   "source": [
    "### Build Model"
   ]
  },
  {
   "cell_type": "code",
   "execution_count": 128,
   "metadata": {
    "collapsed": true
   },
   "outputs": [],
   "source": [
    "n_input = max_length\n",
    "n_output = 3\n",
    "learning_rate = 1\n",
    "\n",
    "embedding_size = distance_supervised_embeddings.shape[1]\n",
    "filter_sizes = [4,3]\n",
    "num_filters = 200\n",
    "pooling_size = 4\n",
    "pooling_strides = 2\n",
    "epochs_num = 500\n",
    "batch_size = 2048"
   ]
  },
  {
   "cell_type": "code",
   "execution_count": 142,
   "metadata": {},
   "outputs": [],
   "source": [
    "reset_graph()\n",
    "\n",
    "X = tf.placeholder(tf.int32, shape = (None, n_input), name = \"Input_X\")\n",
    "y = tf.placeholder(tf.int32, shape = (None), name = \"Y\")\n",
    "# mode = tf.placeholder(tf.bool, name = \"Mode\")\n",
    "\n",
    "# Load Embedding Model\n",
    "with tf.device('/cpu:0'), tf.name_scope(\"embedding\"):\n",
    "    word2vec = tf.Variable(tf.constant(0.0, shape = initW.shape),\n",
    "                    trainable=True, name=\"word2vec\") # trainable=False, means not update these embeddings\n",
    "\n",
    "embedded_chars = tf.nn.embedding_lookup(word2vec, X)\n",
    "embedded_chars_expanded = tf.expand_dims(embedded_chars, -1) # ex: convert [[1,2]] to [[1],[2]], that is shape (2,) to (2,1)\n",
    "\n",
    "# 1st convolution layer\n",
    "conv1 = tf.layers.conv2d(embedded_chars_expanded, \n",
    "                         filters = num_filters, \n",
    "                         kernel_size = (filter_sizes[0], initW.shape[1]),\n",
    "                         strides = (1,1), \n",
    "#                          padding=\"same\",\n",
    "                         kernel_initializer=tf.contrib.layers.variance_scaling_initializer(),\n",
    "                         \n",
    "                         activation = tf.nn.relu,\n",
    "                         name=\"Convolution_1st\"\n",
    "                        )\n",
    "\n",
    "pool1 = tf.layers.max_pooling2d(inputs=conv1, pool_size=[4, 1], strides=2)\n",
    "\n",
    "# 2nd convolution layer\n",
    "conv2 = tf.layers.conv2d(pool1, \n",
    "                         filters = num_filters, \n",
    "                         kernel_size = (filter_sizes[1], 1),\n",
    "                         strides = (1,1), \n",
    "                         padding=\"same\",\n",
    "                         kernel_initializer=tf.contrib.layers.variance_scaling_initializer(),\n",
    "                         activation = tf.nn.relu,\n",
    "                         name=\"Convolution_2nd\"\n",
    "                        )\n",
    "\n",
    "pool2 = tf.layers.max_pooling2d(inputs=conv2, pool_size=[27, 1], strides=1)\n",
    "\n",
    "# Dense Layer, Combine all the pooled features\n",
    "pool2_flat = tf.reshape(pool2, [-1, num_filters])\n",
    "\n",
    "dense = tf.layers.dense(inputs=pool2_flat, units=1024, activation=tf.nn.relu, name = \"Fully_connect\")\n",
    "# dense = tf.layers.dropout(inputs = dense, rate = 0.3, training = mode)\n",
    "\n",
    "# Logits Layer\n",
    "logits = tf.layers.dense(inputs=dense, \n",
    "                         units=n_output, \n",
    "                         activation=tf.nn.softmax, \n",
    "#                          kernel_initializer=tf.contrib.layers.variance_scaling_initializer(),\n",
    "                         name = \"Softmax\")\n",
    "\n",
    "# Define Loss Function\n",
    "cross_entropy = tf.reduce_mean(tf.nn.sparse_softmax_cross_entropy_with_logits(labels=y, logits=logits, name=\"Cross_Entropy\"))\n",
    "\n",
    "# Define Training Process\n",
    "train_step = tf.train.AdadeltaOptimizer(learning_rate, epsilon=1e-6).minimize(cross_entropy)\n",
    "\n",
    "# Define Accuracy\n",
    "predicted_class = tf.argmax(logits,1, output_type=tf.int32)\n",
    "correct_predict = tf.equal(y, predicted_class) # [True, False ..., True]\n",
    "accuracy = tf.reduce_mean(tf.cast(correct_predict, tf.float32)) # [True, False ..., True] --> [1,0,...,1]\n"
   ]
  },
  {
   "cell_type": "code",
   "execution_count": 143,
   "metadata": {
    "collapsed": true
   },
   "outputs": [],
   "source": [
    "# prepare the training batch\n",
    "train_data = tf.contrib.data.Dataset.from_tensor_slices((tweets_train, senti_train)).batch(batch_size).repeat()\n",
    "train_iterator = train_data.make_one_shot_iterator() # Create an iterator to go through the training data\n",
    "train_next_batch = train_iterator.get_next()"
   ]
  },
  {
   "cell_type": "code",
   "execution_count": 140,
   "metadata": {},
   "outputs": [
    {
     "name": "stderr",
     "output_type": "stream",
     "text": [
      "/home/yenhao/Documents/chatbot/lib/python3.5/site-packages/sklearn/metrics/classification.py:1135: UndefinedMetricWarning: F-score is ill-defined and being set to 0.0 in labels with no predicted samples.\n",
      "  'precision', 'predicted', average, warn_for)\n"
     ]
    },
    {
     "name": "stdout",
     "output_type": "stream",
     "text": [
      "2017-11-17 22:06:45 -    1 epoch, loss:1.042, train accuracy:0.509, train f1 score:0.344, test f1 score:0.174\n",
      "2017-11-17 22:06:48 -   11 epoch, loss:1.012, train accuracy:0.481, train f1 score:0.323, test f1 score:0.183\n",
      "2017-11-17 22:06:52 -   21 epoch, loss:0.989, train accuracy:0.526, train f1 score:0.378, test f1 score:0.201\n",
      "2017-11-17 22:06:55 -   31 epoch, loss:1.000, train accuracy:0.524, train f1 score:0.461, test f1 score:0.535\n",
      "2017-11-17 22:06:58 -   41 epoch, loss:0.905, train accuracy:0.641, train f1 score:0.587, test f1 score:0.549\n",
      "2017-11-17 22:07:02 -   51 epoch, loss:0.906, train accuracy:0.635, train f1 score:0.592, test f1 score:0.547\n",
      "2017-11-17 22:07:05 -   61 epoch, loss:0.880, train accuracy:0.670, train f1 score:0.653, test f1 score:0.582\n",
      "2017-11-17 22:07:08 -   71 epoch, loss:0.919, train accuracy:0.621, train f1 score:0.612, test f1 score:0.555\n",
      "2017-11-17 22:07:12 -   81 epoch, loss:0.902, train accuracy:0.648, train f1 score:0.612, test f1 score:0.439\n",
      "2017-11-17 22:07:15 -   91 epoch, loss:0.967, train accuracy:0.559, train f1 score:0.452, test f1 score:0.281\n",
      "2017-11-17 22:07:19 -  101 epoch, loss:0.894, train accuracy:0.635, train f1 score:0.628, test f1 score:0.600\n",
      "2017-11-17 22:07:22 -  111 epoch, loss:0.881, train accuracy:0.661, train f1 score:0.618, test f1 score:0.538\n",
      "2017-11-17 22:07:25 -  121 epoch, loss:0.835, train accuracy:0.711, train f1 score:0.697, test f1 score:0.602\n",
      "2017-11-17 22:07:29 -  131 epoch, loss:0.829, train accuracy:0.725, train f1 score:0.664, test f1 score:0.559\n",
      "2017-11-17 22:07:32 -  141 epoch, loss:0.794, train accuracy:0.757, train f1 score:0.764, test f1 score:0.582\n",
      "2017-11-17 22:07:35 -  151 epoch, loss:0.761, train accuracy:0.787, train f1 score:0.775, test f1 score:0.560\n",
      "2017-11-17 22:07:39 -  161 epoch, loss:0.860, train accuracy:0.679, train f1 score:0.658, test f1 score:0.566\n",
      "2017-11-17 22:07:42 -  171 epoch, loss:0.823, train accuracy:0.712, train f1 score:0.713, test f1 score:0.616\n",
      "2017-11-17 22:07:46 -  181 epoch, loss:0.765, train accuracy:0.788, train f1 score:0.772, test f1 score:0.527\n",
      "2017-11-17 22:07:49 -  191 epoch, loss:0.863, train accuracy:0.674, train f1 score:0.639, test f1 score:0.394\n",
      "2017-11-17 22:07:52 -  201 epoch, loss:0.709, train accuracy:0.845, train f1 score:0.847, test f1 score:0.598\n",
      "2017-11-17 22:07:56 -  211 epoch, loss:0.693, train accuracy:0.864, train f1 score:0.858, test f1 score:0.604\n",
      "2017-11-17 22:07:59 -  221 epoch, loss:0.654, train accuracy:0.900, train f1 score:0.899, test f1 score:0.601\n",
      "2017-11-17 22:08:02 -  231 epoch, loss:0.774, train accuracy:0.770, train f1 score:0.721, test f1 score:0.517\n",
      "2017-11-17 22:08:06 -  241 epoch, loss:0.619, train accuracy:0.940, train f1 score:0.940, test f1 score:0.595\n",
      "2017-11-17 22:08:09 -  251 epoch, loss:0.818, train accuracy:0.724, train f1 score:0.709, test f1 score:0.559\n",
      "2017-11-17 22:08:13 -  261 epoch, loss:0.607, train accuracy:0.946, train f1 score:0.945, test f1 score:0.561\n",
      "2017-11-17 22:08:16 -  271 epoch, loss:0.649, train accuracy:0.915, train f1 score:0.915, test f1 score:0.588\n",
      "2017-11-17 22:08:19 -  281 epoch, loss:0.608, train accuracy:0.944, train f1 score:0.944, test f1 score:0.581\n",
      "2017-11-17 22:08:23 -  291 epoch, loss:0.593, train accuracy:0.958, train f1 score:0.959, test f1 score:0.574\n",
      "2017-11-17 22:08:26 -  301 epoch, loss:0.596, train accuracy:0.956, train f1 score:0.955, test f1 score:0.575\n",
      "2017-11-17 22:08:29 -  311 epoch, loss:0.601, train accuracy:0.950, train f1 score:0.950, test f1 score:0.576\n",
      "2017-11-17 22:08:33 -  321 epoch, loss:0.585, train accuracy:0.966, train f1 score:0.966, test f1 score:0.573\n",
      "2017-11-17 22:08:36 -  331 epoch, loss:0.589, train accuracy:0.962, train f1 score:0.963, test f1 score:0.570\n",
      "2017-11-17 22:08:40 -  341 epoch, loss:0.608, train accuracy:0.943, train f1 score:0.943, test f1 score:0.567\n",
      "2017-11-17 22:08:43 -  351 epoch, loss:0.594, train accuracy:0.957, train f1 score:0.956, test f1 score:0.572\n",
      "2017-11-17 22:08:46 -  361 epoch, loss:0.592, train accuracy:0.959, train f1 score:0.959, test f1 score:0.573\n",
      "2017-11-17 22:08:50 -  371 epoch, loss:0.598, train accuracy:0.952, train f1 score:0.952, test f1 score:0.574\n",
      "2017-11-17 22:08:53 -  381 epoch, loss:0.588, train accuracy:0.963, train f1 score:0.963, test f1 score:0.575\n",
      "2017-11-17 22:08:57 -  391 epoch, loss:0.594, train accuracy:0.957, train f1 score:0.957, test f1 score:0.572\n",
      "2017-11-17 22:09:00 -  401 epoch, loss:0.593, train accuracy:0.958, train f1 score:0.958, test f1 score:0.571\n",
      "2017-11-17 22:09:03 -  411 epoch, loss:0.580, train accuracy:0.971, train f1 score:0.971, test f1 score:0.573\n",
      "2017-11-17 22:09:07 -  421 epoch, loss:0.586, train accuracy:0.965, train f1 score:0.965, test f1 score:0.573\n",
      "2017-11-17 22:09:10 -  431 epoch, loss:0.604, train accuracy:0.947, train f1 score:0.946, test f1 score:0.578\n",
      "2017-11-17 22:09:13 -  441 epoch, loss:0.591, train accuracy:0.960, train f1 score:0.960, test f1 score:0.572\n",
      "2017-11-17 22:09:17 -  451 epoch, loss:0.591, train accuracy:0.960, train f1 score:0.960, test f1 score:0.575\n",
      "2017-11-17 22:09:20 -  461 epoch, loss:0.597, train accuracy:0.953, train f1 score:0.953, test f1 score:0.573\n",
      "2017-11-17 22:09:24 -  471 epoch, loss:0.586, train accuracy:0.964, train f1 score:0.964, test f1 score:0.575\n",
      "2017-11-17 22:09:27 -  481 epoch, loss:0.592, train accuracy:0.959, train f1 score:0.959, test f1 score:0.574\n",
      "2017-11-17 22:09:30 -  491 epoch, loss:0.591, train accuracy:0.960, train f1 score:0.960, test f1 score:0.571\n"
     ]
    },
    {
     "data": {
      "image/png": "[encoded data removed]",
      "text/plain": [
       "<matplotlib.figure.Figure at 0x7f1b133b6b00>"
      ]
     },
     "metadata": {},
     "output_type": "display_data"
    },
    {
     "data": {
      "image/png": "[encoded data removed]",
      "text/plain": [
       "<matplotlib.figure.Figure at 0x7f167dc33278>"
      ]
     },
     "metadata": {},
     "output_type": "display_data"
    }
   ],
   "source": [
    "round_of_epochs = int(tweets_train.shape[0]/batch_size)\n",
    "\n",
    "train_loss = []\n",
    "test_loss  = []\n",
    "\n",
    "train_f1 = []\n",
    "test_f1 = []\n",
    "x_axis = np.arange(0., epochs_num, 5)\n",
    "saver = tf.train.Saver() # to store the model\n",
    "\n",
    "with tf.Session() as sess:\n",
    "    # Initialize all variables\n",
    "    sess.run(tf.local_variables_initializer())\n",
    "    sess.run(tf.global_variables_initializer())\n",
    "    \n",
    "    sess.run(word2vec.assign(distance_supervised_embeddings))# Assign the pretrain word2vec\n",
    "    \n",
    "    for epochs in range(epochs_num): # starting the training process and set the epochs_num\n",
    "        for _ in range(round_of_epochs):\n",
    "            train, label = sess.run(train_next_batch) # Get the mini-batch data sample\n",
    "            sess.run(train_step, feed_dict={X:train, y:label}) # Feed the features, labe, training_mode  to network to train\n",
    "        if epochs % 5 ==0:\n",
    "            loss, pred, acc = sess.run([cross_entropy,predicted_class,accuracy], feed_dict={X:train, y:label})\n",
    "            t_loss, t_pred = sess.run([cross_entropy,predicted_class], feed_dict={X:tweets_test, y:senti_test})\n",
    "            train_loss.append(loss)\n",
    "            test_loss.append(t_loss)\n",
    "            train_f1.append(f1_score(label, pred, average='weighted'))\n",
    "            test_f1.append(f1_score(senti_test, t_pred, average='weighted'))\n",
    "        if epochs % 10 ==0:\n",
    "            print(\"{} - {:4d} epoch, loss:{:.3f}, train accuracy:{:.3f}, train f1 score:{:.3f}, test f1 score:{:.3f}\".format(\n",
    "                datetime.datetime.now().strftime(\"%Y-%m-%d %H:%M:%S\"),\n",
    "                epochs+1,\n",
    "                loss, \n",
    "                acc,\n",
    "                f1_score(label, pred, average='weighted'),\n",
    "                f1_score(senti_test, t_pred, average='weighted')\n",
    "                )\n",
    "            )\n",
    "    plt.rcParams['font.size'] = 14\n",
    "    plt.plot(x_axis, train_loss, 'r', x_axis, test_loss, 'b')\n",
    "    plt.legend(['Train', 'Test'], loc='upper right')\n",
    "    plt.xlabel('Epochs')\n",
    "    plt.ylabel('Loss(cross entropy)')\n",
    "    plt.show()\n",
    "    plt.clf()\n",
    "    plt.plot(x_axis, train_f1, x_axis, test_f1)\n",
    "    plt.legend(['Train', 'Test'], loc='upper right')\n",
    "    plt.xlabel('Epochs')\n",
    "    plt.ylabel('Loss(cross entropy)')\n",
    "    plt.show()\n",
    "\n",
    "    "
   ]
  },
  {
   "cell_type": "code",
   "execution_count": 144,
   "metadata": {
    "scrolled": false
   },
   "outputs": [
    {
     "name": "stderr",
     "output_type": "stream",
     "text": [
      "/home/yenhao/Documents/chatbot/lib/python3.5/site-packages/sklearn/metrics/classification.py:1135: UndefinedMetricWarning: F-score is ill-defined and being set to 0.0 in labels with no predicted samples.\n",
      "  'precision', 'predicted', average, warn_for)\n"
     ]
    },
    {
     "name": "stdout",
     "output_type": "stream",
     "text": [
      "2017-11-17 22:17:43 -    1 epoch, loss:1.042, train accuracy:0.509, train f1 score:0.344, test f1 score:0.174\n",
      "2017-11-17 22:17:48 -   11 epoch, loss:1.013, train accuracy:0.478, train f1 score:0.314, test f1 score:0.177\n",
      "2017-11-17 22:17:52 -   21 epoch, loss:0.997, train accuracy:0.523, train f1 score:0.369, test f1 score:0.191\n",
      "2017-11-17 22:17:56 -   31 epoch, loss:0.982, train accuracy:0.552, train f1 score:0.489, test f1 score:0.551\n",
      "2017-11-17 22:18:01 -   41 epoch, loss:0.895, train accuracy:0.653, train f1 score:0.598, test f1 score:0.560\n",
      "2017-11-17 22:18:05 -   51 epoch, loss:0.865, train accuracy:0.685, train f1 score:0.635, test f1 score:0.561\n",
      "2017-11-17 22:18:09 -   61 epoch, loss:0.863, train accuracy:0.679, train f1 score:0.645, test f1 score:0.584\n",
      "2017-11-17 22:18:14 -   71 epoch, loss:0.905, train accuracy:0.636, train f1 score:0.621, test f1 score:0.559\n",
      "2017-11-17 22:18:18 -   81 epoch, loss:0.883, train accuracy:0.660, train f1 score:0.627, test f1 score:0.477\n",
      "2017-11-17 22:18:22 -   91 epoch, loss:0.941, train accuracy:0.596, train f1 score:0.524, test f1 score:0.351\n",
      "2017-11-17 22:18:27 -  101 epoch, loss:0.976, train accuracy:0.560, train f1 score:0.479, test f1 score:0.319\n",
      "2017-11-17 22:18:31 -  111 epoch, loss:0.875, train accuracy:0.660, train f1 score:0.627, test f1 score:0.537\n",
      "2017-11-17 22:18:35 -  121 epoch, loss:0.797, train accuracy:0.755, train f1 score:0.749, test f1 score:0.630\n",
      "2017-11-17 22:18:40 -  131 epoch, loss:0.819, train accuracy:0.735, train f1 score:0.735, test f1 score:0.563\n",
      "2017-11-17 22:18:44 -  141 epoch, loss:0.756, train accuracy:0.807, train f1 score:0.813, test f1 score:0.581\n",
      "2017-11-17 22:18:48 -  151 epoch, loss:0.712, train accuracy:0.849, train f1 score:0.849, test f1 score:0.618\n",
      "2017-11-17 22:18:53 -  161 epoch, loss:0.784, train accuracy:0.758, train f1 score:0.751, test f1 score:0.626\n",
      "2017-11-17 22:18:57 -  171 epoch, loss:0.844, train accuracy:0.689, train f1 score:0.690, test f1 score:0.632\n",
      "2017-11-17 22:19:01 -  181 epoch, loss:0.749, train accuracy:0.795, train f1 score:0.789, test f1 score:0.588\n",
      "2017-11-17 22:19:06 -  191 epoch, loss:0.696, train accuracy:0.862, train f1 score:0.860, test f1 score:0.599\n",
      "2017-11-17 22:19:10 -  201 epoch, loss:0.769, train accuracy:0.778, train f1 score:0.730, test f1 score:0.561\n",
      "2017-11-17 22:19:14 -  211 epoch, loss:0.654, train accuracy:0.907, train f1 score:0.906, test f1 score:0.611\n",
      "2017-11-17 22:19:19 -  221 epoch, loss:0.766, train accuracy:0.790, train f1 score:0.804, test f1 score:0.520\n",
      "2017-11-17 22:19:23 -  231 epoch, loss:0.623, train accuracy:0.930, train f1 score:0.929, test f1 score:0.620\n",
      "2017-11-17 22:19:27 -  241 epoch, loss:0.624, train accuracy:0.930, train f1 score:0.930, test f1 score:0.608\n",
      "2017-11-17 22:19:32 -  251 epoch, loss:0.639, train accuracy:0.913, train f1 score:0.911, test f1 score:0.606\n",
      "2017-11-17 22:19:36 -  261 epoch, loss:0.626, train accuracy:0.925, train f1 score:0.925, test f1 score:0.611\n",
      "2017-11-17 22:19:40 -  271 epoch, loss:0.636, train accuracy:0.915, train f1 score:0.915, test f1 score:0.608\n",
      "2017-11-17 22:19:45 -  281 epoch, loss:0.625, train accuracy:0.926, train f1 score:0.926, test f1 score:0.607\n",
      "2017-11-17 22:19:49 -  291 epoch, loss:0.620, train accuracy:0.931, train f1 score:0.931, test f1 score:0.611\n",
      "2017-11-17 22:19:53 -  301 epoch, loss:0.618, train accuracy:0.933, train f1 score:0.933, test f1 score:0.613\n",
      "2017-11-17 22:19:58 -  311 epoch, loss:0.613, train accuracy:0.938, train f1 score:0.937, test f1 score:0.613\n",
      "2017-11-17 22:20:02 -  321 epoch, loss:0.604, train accuracy:0.947, train f1 score:0.947, test f1 score:0.607\n",
      "2017-11-17 22:20:06 -  331 epoch, loss:0.610, train accuracy:0.941, train f1 score:0.942, test f1 score:0.606\n",
      "2017-11-17 22:20:11 -  341 epoch, loss:0.621, train accuracy:0.930, train f1 score:0.929, test f1 score:0.604\n",
      "2017-11-17 22:20:15 -  351 epoch, loss:0.612, train accuracy:0.939, train f1 score:0.938, test f1 score:0.606\n",
      "2017-11-17 22:20:19 -  361 epoch, loss:0.625, train accuracy:0.926, train f1 score:0.926, test f1 score:0.610\n",
      "2017-11-17 22:20:24 -  371 epoch, loss:0.619, train accuracy:0.931, train f1 score:0.931, test f1 score:0.608\n",
      "2017-11-17 22:20:28 -  381 epoch, loss:0.613, train accuracy:0.938, train f1 score:0.938, test f1 score:0.605\n",
      "2017-11-17 22:20:32 -  391 epoch, loss:0.613, train accuracy:0.938, train f1 score:0.937, test f1 score:0.610\n",
      "2017-11-17 22:20:37 -  401 epoch, loss:0.609, train accuracy:0.942, train f1 score:0.942, test f1 score:0.609\n",
      "2017-11-17 22:20:41 -  411 epoch, loss:0.598, train accuracy:0.953, train f1 score:0.952, test f1 score:0.607\n",
      "2017-11-17 22:20:45 -  421 epoch, loss:0.605, train accuracy:0.946, train f1 score:0.946, test f1 score:0.606\n",
      "2017-11-17 22:20:50 -  431 epoch, loss:0.619, train accuracy:0.932, train f1 score:0.931, test f1 score:0.604\n",
      "2017-11-17 22:20:54 -  441 epoch, loss:0.611, train accuracy:0.939, train f1 score:0.939, test f1 score:0.603\n",
      "2017-11-17 22:20:58 -  451 epoch, loss:0.623, train accuracy:0.928, train f1 score:0.928, test f1 score:0.600\n",
      "2017-11-17 22:21:03 -  461 epoch, loss:0.617, train accuracy:0.934, train f1 score:0.933, test f1 score:0.609\n",
      "2017-11-17 22:21:07 -  471 epoch, loss:0.611, train accuracy:0.939, train f1 score:0.939, test f1 score:0.608\n",
      "2017-11-17 22:21:12 -  481 epoch, loss:0.612, train accuracy:0.938, train f1 score:0.938, test f1 score:0.608\n",
      "2017-11-17 22:21:16 -  491 epoch, loss:0.606, train accuracy:0.944, train f1 score:0.944, test f1 score:0.610\n"
     ]
    },
    {
     "data": {
      "image/png": "[encoded data removed]",
      "text/plain": [
       "<matplotlib.figure.Figure at 0x7f1b0ee63e10>"
      ]
     },
     "metadata": {},
     "output_type": "display_data"
    },
    {
     "data": {
      "image/png": "[encoded data removed]",
      "text/plain": [
       "<matplotlib.figure.Figure at 0x7f167efecf28>"
      ]
     },
     "metadata": {},
     "output_type": "display_data"
    }
   ],
   "source": [
    "round_of_epochs = int(tweets_train.shape[0]/batch_size)\n",
    "\n",
    "train_loss = []\n",
    "test_loss  = []\n",
    "\n",
    "train_f1 = []\n",
    "test_f1 = []\n",
    "x_axis = np.arange(0., epochs_num, 5)\n",
    "saver = tf.train.Saver() # to store the model\n",
    "\n",
    "with tf.Session() as sess:\n",
    "    # Initialize all variables\n",
    "    sess.run(tf.local_variables_initializer())\n",
    "    sess.run(tf.global_variables_initializer())\n",
    "    \n",
    "    sess.run(word2vec.assign(distance_supervised_embeddings))# Assign the pretrain word2vec\n",
    "    \n",
    "    for epochs in range(epochs_num): # starting the training process and set the epochs_num\n",
    "        for _ in range(round_of_epochs):\n",
    "            train, label = sess.run(train_next_batch) # Get the mini-batch data sample\n",
    "            sess.run(train_step, feed_dict={X:train, y:label}) # Feed the features, labe, training_mode  to network to train\n",
    "        if epochs % 5 ==0:\n",
    "            loss, pred, acc = sess.run([cross_entropy,predicted_class,accuracy], feed_dict={X:train, y:label})\n",
    "            t_loss, t_pred = sess.run([cross_entropy,predicted_class], feed_dict={X:tweets_test, y:senti_test})\n",
    "            train_loss.append(loss)\n",
    "            test_loss.append(t_loss)\n",
    "            train_f1.append(f1_score(label, pred, average='weighted'))\n",
    "            test_f1.append(f1_score(senti_test, t_pred, average='weighted'))\n",
    "        if epochs % 10 ==0:\n",
    "            print(\"{} - {:4d} epoch, loss:{:.3f}, train accuracy:{:.3f}, train f1 score:{:.3f}, test f1 score:{:.3f}\".format(\n",
    "                datetime.datetime.now().strftime(\"%Y-%m-%d %H:%M:%S\"),\n",
    "                epochs+1,\n",
    "                loss, \n",
    "                acc,\n",
    "                f1_score(label, pred, average='weighted'),\n",
    "                f1_score(senti_test, t_pred, average='weighted')\n",
    "                )\n",
    "            )\n",
    "    plt.rcParams['font.size'] = 14\n",
    "    plt.plot(x_axis, train_loss, 'r', x_axis, test_loss, 'b')\n",
    "    plt.legend(['Train', 'Test'], loc='upper right')\n",
    "    plt.xlabel('Epochs')\n",
    "    plt.ylabel('Loss(cross entropy)')\n",
    "    plt.show()\n",
    "    plt.clf()\n",
    "    plt.plot(x_axis, train_f1, x_axis, test_f1)\n",
    "    plt.legend(['Train', 'Test'], loc='upper right')\n",
    "    plt.xlabel('Epochs')\n",
    "    plt.ylabel('Loss(cross entropy)')\n",
    "    plt.show()\n",
    "\n",
    "    "
   ]
  },
  {
   "cell_type": "code",
   "execution_count": null,
   "metadata": {
    "collapsed": true
   },
   "outputs": [],
   "source": []
  }
 ],
 "metadata": {
  "kernelspec": {
   "display_name": "Python 3",
   "language": "python",
   "name": "python3"
  },
  "language_info": {
   "codemirror_mode": {
    "name": "ipython",
    "version": 3
   },
   "file_extension": ".py",
   "mimetype": "text/x-python",
   "name": "python",
   "nbconvert_exporter": "python",
   "pygments_lexer": "ipython3",
   "version": "3.5.2"
  }
 },
 "nbformat": 4,
 "nbformat_minor": 2
}
